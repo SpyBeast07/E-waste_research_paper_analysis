{
 "cells": [
  {
   "cell_type": "code",
   "execution_count": 1,
   "id": "2462fcf4",
   "metadata": {},
   "outputs": [
    {
     "name": "stdout",
     "output_type": "stream",
     "text": [
      "\n",
      "🔍 Preparing data...\n",
      "\n",
      "🌍 Geocoding locations...\n",
      "\n",
      "📊 Processing data...\n",
      "⏳ Geocoding progress:\n"
     ]
    },
    {
     "name": "stderr",
     "output_type": "stream",
     "text": [
      "100%|██████████| 11/11 [00:19<00:00,  1.78s/it]\n"
     ]
    },
    {
     "name": "stdout",
     "output_type": "stream",
     "text": [
      "\n",
      "🎨 Creating visualization...\n",
      "\n",
      "💾 Saving visualization...\n",
      "✅ Saved as 'e_waste_export_flow_numbered.html'\n",
      "\n",
      "📄 Saving label reference table...\n",
      "✅ Saved as 'origin_label_reference.csv'\n",
      "\n",
      "🖥️ Displaying visualization...\n"
     ]
    },
    {
     "data": {
      "application/vnd.plotly.v1+json": {
       "config": {
        "plotlyServerURL": "https://plot.ly"
       },
       "data": [
        {
         "hoverinfo": "text",
         "lat": [
          52.510885,
          -10.3333333
         ],
         "line": {
          "color": "#FF6B6B",
          "width": 4.173270371842862
         },
         "lon": [
          13.3989367,
          -53.2
         ],
         "mode": "lines",
         "opacity": 0.7,
         "showlegend": false,
         "text": "<b>From:</b> Berlin<br><b>To:</b> Brazil<br><b>Total Weight:</b> 979.36 kg<br><b>Shipments:</b> 103",
         "type": "scattergeo"
        },
        {
         "hoverinfo": "text",
         "lat": [
          52.510885,
          35.0000663
         ],
         "line": {
          "color": "#4ECDC4",
          "width": 4.265499703695925
         },
         "lon": [
          13.3989367,
          104.999955
         ],
         "mode": "lines",
         "opacity": 0.7,
         "showlegend": false,
         "text": "<b>From:</b> Berlin<br><b>To:</b> China<br><b>Total Weight:</b> 1,003.95 kg<br><b>Shipments:</b> 97",
         "type": "scattergeo"
        },
        {
         "hoverinfo": "text",
         "lat": [
          52.510885,
          51.1638175
         ],
         "line": {
          "color": "#45B7D1",
          "width": 3.9118851690433507
         },
         "lon": [
          13.3989367,
          10.4478313
         ],
         "mode": "lines",
         "opacity": 0.7,
         "showlegend": false,
         "text": "<b>From:</b> Berlin<br><b>To:</b> Germany<br><b>Total Weight:</b> 909.67 kg<br><b>Shipments:</b> 96",
         "type": "scattergeo"
        },
        {
         "hoverinfo": "text",
         "lat": [
          52.510885,
          22.3511148
         ],
         "line": {
          "color": "#FFA07A",
          "width": 4.262611676630986
         },
         "lon": [
          13.3989367,
          78.6677428
         ],
         "mode": "lines",
         "opacity": 0.7,
         "showlegend": false,
         "text": "<b>From:</b> Berlin<br><b>To:</b> India<br><b>Total Weight:</b> 1,003.18 kg<br><b>Shipments:</b> 89",
         "type": "scattergeo"
        },
        {
         "hoverinfo": "text",
         "lat": [
          52.510885,
          39.7837304
         ],
         "line": {
          "color": "#98D8C8",
          "width": 5.5
         },
         "lon": [
          13.3989367,
          -100.445882
         ],
         "mode": "lines",
         "opacity": 0.7,
         "showlegend": false,
         "text": "<b>From:</b> Berlin<br><b>To:</b> USA<br><b>Total Weight:</b> 1,333.09 kg<br><b>Shipments:</b> 119",
         "type": "scattergeo"
        },
        {
         "hoverinfo": "text",
         "lat": [
          23.7643863,
          -10.3333333
         ],
         "line": {
          "color": "#FF6B6B",
          "width": 4.646906810492916
         },
         "lon": [
          90.3890144,
          -53.2
         ],
         "mode": "lines",
         "opacity": 0.7,
         "showlegend": false,
         "text": "<b>From:</b> Dhaka<br><b>To:</b> Brazil<br><b>Total Weight:</b> 1,105.64 kg<br><b>Shipments:</b> 109",
         "type": "scattergeo"
        },
        {
         "hoverinfo": "text",
         "lat": [
          23.7643863,
          35.0000663
         ],
         "line": {
          "color": "#4ECDC4",
          "width": 3.474142781057543
         },
         "lon": [
          90.3890144,
          104.999955
         ],
         "mode": "lines",
         "opacity": 0.7,
         "showlegend": false,
         "text": "<b>From:</b> Dhaka<br><b>To:</b> China<br><b>Total Weight:</b> 792.96 kg<br><b>Shipments:</b> 76",
         "type": "scattergeo"
        },
        {
         "hoverinfo": "text",
         "lat": [
          23.7643863,
          51.1638175
         ],
         "line": {
          "color": "#45B7D1",
          "width": 4.195886999377386
         },
         "lon": [
          90.3890144,
          10.4478313
         ],
         "mode": "lines",
         "opacity": 0.7,
         "showlegend": false,
         "text": "<b>From:</b> Dhaka<br><b>To:</b> Germany<br><b>Total Weight:</b> 985.39 kg<br><b>Shipments:</b> 104",
         "type": "scattergeo"
        },
        {
         "hoverinfo": "text",
         "lat": [
          23.7643863,
          22.3511148
         ],
         "line": {
          "color": "#FFA07A",
          "width": 5.055881448364326
         },
         "lon": [
          90.3890144,
          78.6677428
         ],
         "mode": "lines",
         "opacity": 0.7,
         "showlegend": false,
         "text": "<b>From:</b> Dhaka<br><b>To:</b> India<br><b>Total Weight:</b> 1,214.68 kg<br><b>Shipments:</b> 113",
         "type": "scattergeo"
        },
        {
         "hoverinfo": "text",
         "lat": [
          23.7643863,
          39.7837304
         ],
         "line": {
          "color": "#98D8C8",
          "width": 4.423065959537616
         },
         "lon": [
          90.3890144,
          -100.445882
         ],
         "mode": "lines",
         "opacity": 0.7,
         "showlegend": false,
         "text": "<b>From:</b> Dhaka<br><b>To:</b> USA<br><b>Total Weight:</b> 1,045.96 kg<br><b>Shipments:</b> 99",
         "type": "scattergeo"
        },
        {
         "hoverinfo": "text",
         "lat": [
          51.5074456,
          -10.3333333
         ],
         "line": {
          "color": "#FF6B6B",
          "width": 3.9675078201771825
         },
         "lon": [
          -0.1277653,
          -53.2
         ],
         "mode": "lines",
         "opacity": 0.7,
         "showlegend": false,
         "text": "<b>From:</b> London<br><b>To:</b> Brazil<br><b>Total Weight:</b> 924.50 kg<br><b>Shipments:</b> 100",
         "type": "scattergeo"
        },
        {
         "hoverinfo": "text",
         "lat": [
          51.5074456,
          35.0000663
         ],
         "line": {
          "color": "#4ECDC4",
          "width": 3.752481077796698
         },
         "lon": [
          -0.1277653,
          104.999955
         ],
         "mode": "lines",
         "opacity": 0.7,
         "showlegend": false,
         "text": "<b>From:</b> London<br><b>To:</b> China<br><b>Total Weight:</b> 867.17 kg<br><b>Shipments:</b> 94",
         "type": "scattergeo"
        },
        {
         "hoverinfo": "text",
         "lat": [
          51.5074456,
          51.1638175
         ],
         "line": {
          "color": "#45B7D1",
          "width": 4.779568521255129
         },
         "lon": [
          -0.1277653,
          10.4478313
         ],
         "mode": "lines",
         "opacity": 0.7,
         "showlegend": false,
         "text": "<b>From:</b> London<br><b>To:</b> Germany<br><b>Total Weight:</b> 1,141.01 kg<br><b>Shipments:</b> 103",
         "type": "scattergeo"
        },
        {
         "hoverinfo": "text",
         "lat": [
          51.5074456,
          22.3511148
         ],
         "line": {
          "color": "#FFA07A",
          "width": 4.461885544111801
         },
         "lon": [
          -0.1277653,
          78.6677428
         ],
         "mode": "lines",
         "opacity": 0.7,
         "showlegend": false,
         "text": "<b>From:</b> London<br><b>To:</b> India<br><b>Total Weight:</b> 1,056.31 kg<br><b>Shipments:</b> 105",
         "type": "scattergeo"
        },
        {
         "hoverinfo": "text",
         "lat": [
          51.5074456,
          39.7837304
         ],
         "line": {
          "color": "#98D8C8",
          "width": 4.343926516589278
         },
         "lon": [
          -0.1277653,
          -100.445882
         ],
         "mode": "lines",
         "opacity": 0.7,
         "showlegend": false,
         "text": "<b>From:</b> London<br><b>To:</b> USA<br><b>Total Weight:</b> 1,024.86 kg<br><b>Shipments:</b> 99",
         "type": "scattergeo"
        },
        {
         "hoverinfo": "text",
         "lat": [
          19.054999,
          -10.3333333
         ],
         "line": {
          "color": "#FF6B6B",
          "width": 4.498717265901027
         },
         "lon": [
          72.8692035,
          -53.2
         ],
         "mode": "lines",
         "opacity": 0.7,
         "showlegend": false,
         "text": "<b>From:</b> Mumbai<br><b>To:</b> Brazil<br><b>Total Weight:</b> 1,066.13 kg<br><b>Shipments:</b> 101",
         "type": "scattergeo"
        },
        {
         "hoverinfo": "text",
         "lat": [
          19.054999,
          35.0000663
         ],
         "line": {
          "color": "#4ECDC4",
          "width": 4.835828788753948
         },
         "lon": [
          72.8692035,
          104.999955
         ],
         "mode": "lines",
         "opacity": 0.7,
         "showlegend": false,
         "text": "<b>From:</b> Mumbai<br><b>To:</b> China<br><b>Total Weight:</b> 1,156.01 kg<br><b>Shipments:</b> 111",
         "type": "scattergeo"
        },
        {
         "hoverinfo": "text",
         "lat": [
          19.054999,
          51.1638175
         ],
         "line": {
          "color": "#45B7D1",
          "width": 4.198549985372331
         },
         "lon": [
          72.8692035,
          10.4478313
         ],
         "mode": "lines",
         "opacity": 0.7,
         "showlegend": false,
         "text": "<b>From:</b> Mumbai<br><b>To:</b> Germany<br><b>Total Weight:</b> 986.10 kg<br><b>Shipments:</b> 101",
         "type": "scattergeo"
        },
        {
         "hoverinfo": "text",
         "lat": [
          19.054999,
          22.3511148
         ],
         "line": {
          "color": "#FFA07A",
          "width": 4.5718556136494914
         },
         "lon": [
          72.8692035,
          78.6677428
         ],
         "mode": "lines",
         "opacity": 0.7,
         "showlegend": false,
         "text": "<b>From:</b> Mumbai<br><b>To:</b> India<br><b>Total Weight:</b> 1,085.63 kg<br><b>Shipments:</b> 104",
         "type": "scattergeo"
        },
        {
         "hoverinfo": "text",
         "lat": [
          19.054999,
          39.7837304
         ],
         "line": {
          "color": "#98D8C8",
          "width": 4.426066507137553
         },
         "lon": [
          72.8692035,
          -100.445882
         ],
         "mode": "lines",
         "opacity": 0.7,
         "showlegend": false,
         "text": "<b>From:</b> Mumbai<br><b>To:</b> USA<br><b>Total Weight:</b> 1,046.76 kg<br><b>Shipments:</b> 104",
         "type": "scattergeo"
        },
        {
         "hoverinfo": "text",
         "lat": [
          40.7127281,
          -10.3333333
         ],
         "line": {
          "color": "#FF6B6B",
          "width": 3.986073708451793
         },
         "lon": [
          -74.0060152,
          -53.2
         ],
         "mode": "lines",
         "opacity": 0.7,
         "showlegend": false,
         "text": "<b>From:</b> New York<br><b>To:</b> Brazil<br><b>Total Weight:</b> 929.45 kg<br><b>Shipments:</b> 100",
         "type": "scattergeo"
        },
        {
         "hoverinfo": "text",
         "lat": [
          40.7127281,
          35.0000663
         ],
         "line": {
          "color": "#4ECDC4",
          "width": 3.722325574417331
         },
         "lon": [
          -74.0060152,
          104.999955
         ],
         "mode": "lines",
         "opacity": 0.7,
         "showlegend": false,
         "text": "<b>From:</b> New York<br><b>To:</b> China<br><b>Total Weight:</b> 859.13 kg<br><b>Shipments:</b> 91",
         "type": "scattergeo"
        },
        {
         "hoverinfo": "text",
         "lat": [
          40.7127281,
          51.1638175
         ],
         "line": {
          "color": "#45B7D1",
          "width": 4.290291728240405
         },
         "lon": [
          -74.0060152,
          10.4478313
         ],
         "mode": "lines",
         "opacity": 0.7,
         "showlegend": false,
         "text": "<b>From:</b> New York<br><b>To:</b> Germany<br><b>Total Weight:</b> 1,010.56 kg<br><b>Shipments:</b> 98",
         "type": "scattergeo"
        },
        {
         "hoverinfo": "text",
         "lat": [
          40.7127281,
          22.3511148
         ],
         "line": {
          "color": "#FFA07A",
          "width": 4.765766002295419
         },
         "lon": [
          -74.0060152,
          78.6677428
         ],
         "mode": "lines",
         "opacity": 0.7,
         "showlegend": false,
         "text": "<b>From:</b> New York<br><b>To:</b> India<br><b>Total Weight:</b> 1,137.33 kg<br><b>Shipments:</b> 112",
         "type": "scattergeo"
        },
        {
         "hoverinfo": "text",
         "lat": [
          40.7127281,
          39.7837304
         ],
         "line": {
          "color": "#98D8C8",
          "width": 4.397336263868156
         },
         "lon": [
          -74.0060152,
          -100.445882
         ],
         "mode": "lines",
         "opacity": 0.7,
         "showlegend": false,
         "text": "<b>From:</b> New York<br><b>To:</b> USA<br><b>Total Weight:</b> 1,039.10 kg<br><b>Shipments:</b> 96",
         "type": "scattergeo"
        },
        {
         "hoverinfo": "text",
         "lat": [
          31.2312707,
          -10.3333333
         ],
         "line": {
          "color": "#FF6B6B",
          "width": 4.226642612276741
         },
         "lon": [
          121.4700152,
          -53.2
         ],
         "mode": "lines",
         "opacity": 0.7,
         "showlegend": false,
         "text": "<b>From:</b> Shanghai<br><b>To:</b> Brazil<br><b>Total Weight:</b> 993.59 kg<br><b>Shipments:</b> 96",
         "type": "scattergeo"
        },
        {
         "hoverinfo": "text",
         "lat": [
          31.2312707,
          35.0000663
         ],
         "line": {
          "color": "#4ECDC4",
          "width": 4.123686322753903
         },
         "lon": [
          121.4700152,
          104.999955
         ],
         "mode": "lines",
         "opacity": 0.7,
         "showlegend": false,
         "text": "<b>From:</b> Shanghai<br><b>To:</b> China<br><b>Total Weight:</b> 966.14 kg<br><b>Shipments:</b> 85",
         "type": "scattergeo"
        },
        {
         "hoverinfo": "text",
         "lat": [
          31.2312707,
          51.1638175
         ],
         "line": {
          "color": "#45B7D1",
          "width": 3.2981606643212387
         },
         "lon": [
          121.4700152,
          10.4478313
         ],
         "mode": "lines",
         "opacity": 0.7,
         "showlegend": false,
         "text": "<b>From:</b> Shanghai<br><b>To:</b> Germany<br><b>Total Weight:</b> 746.04 kg<br><b>Shipments:</b> 84",
         "type": "scattergeo"
        },
        {
         "hoverinfo": "text",
         "lat": [
          31.2312707,
          22.3511148
         ],
         "line": {
          "color": "#FFA07A",
          "width": 4.287066139570472
         },
         "lon": [
          121.4700152,
          78.6677428
         ],
         "mode": "lines",
         "opacity": 0.7,
         "showlegend": false,
         "text": "<b>From:</b> Shanghai<br><b>To:</b> India<br><b>Total Weight:</b> 1,009.70 kg<br><b>Shipments:</b> 104",
         "type": "scattergeo"
        },
        {
         "hoverinfo": "text",
         "lat": [
          31.2312707,
          39.7837304
         ],
         "line": {
          "color": "#98D8C8",
          "width": 4.734522800411075
         },
         "lon": [
          121.4700152,
          -100.445882
         ],
         "mode": "lines",
         "opacity": 0.7,
         "showlegend": false,
         "text": "<b>From:</b> Shanghai<br><b>To:</b> USA<br><b>Total Weight:</b> 1,129.00 kg<br><b>Shipments:</b> 107",
         "type": "scattergeo"
        },
        {
         "hoverinfo": "text",
         "lat": [
          52.510885,
          23.7643863,
          51.5074456,
          19.054999,
          40.7127281,
          31.2312707
         ],
         "lon": [
          13.3989367,
          90.3890144,
          -0.1277653,
          72.8692035,
          -74.0060152,
          121.4700152
         ],
         "marker": {
          "color": "#4285F4",
          "line": {
           "color": "white",
           "width": 2
          },
          "size": 12
         },
         "mode": "markers+text",
         "name": "Collection Points",
         "text": [
          "1. Berlin",
          "2. Dhaka",
          "3. London",
          "4. Mumbai",
          "5. New York",
          "6. Shanghai"
         ],
         "textposition": "top center",
         "type": "scattergeo"
        },
        {
         "hoverinfo": "text",
         "lat": [
          -10.3333333,
          35.0000663,
          51.1638175,
          22.3511148,
          39.7837304
         ],
         "lon": [
          -53.2,
          104.999955,
          10.4478313,
          78.6677428,
          -100.445882
         ],
         "marker": {
          "color": "#EA4335",
          "line": {
           "color": "white",
           "width": 2
          },
          "size": 12,
          "symbol": "diamond"
         },
         "mode": "markers+text",
         "name": "Export Destinations",
         "text": [
          "1. Brazil",
          "2. China",
          "3. Germany",
          "4. India",
          "5. USA"
         ],
         "textposition": "top center",
         "type": "scattergeo"
        }
       ],
       "layout": {
        "autosize": false,
        "geo": {
         "countrycolor": "rgb(200, 200, 200)",
         "landcolor": "rgb(240, 240, 240)",
         "oceancolor": "rgb(220, 240, 255)",
         "projection": {
          "type": "natural earth"
         },
         "scope": "world",
         "showcountries": true,
         "showframe": false,
         "showland": true,
         "showocean": true
        },
        "height": 800,
        "hoverlabel": {
         "bgcolor": "white",
         "font": {
          "family": "Arial",
          "size": 14
         }
        },
        "margin": {
         "b": 0,
         "l": 10,
         "r": 10,
         "t": 80
        },
        "paper_bgcolor": "rgb(250, 250, 250)",
        "plot_bgcolor": "rgb(250, 250, 250)",
        "template": {
         "data": {
          "bar": [
           {
            "error_x": {
             "color": "#2a3f5f"
            },
            "error_y": {
             "color": "#2a3f5f"
            },
            "marker": {
             "line": {
              "color": "#E5ECF6",
              "width": 0.5
             },
             "pattern": {
              "fillmode": "overlay",
              "size": 10,
              "solidity": 0.2
             }
            },
            "type": "bar"
           }
          ],
          "barpolar": [
           {
            "marker": {
             "line": {
              "color": "#E5ECF6",
              "width": 0.5
             },
             "pattern": {
              "fillmode": "overlay",
              "size": 10,
              "solidity": 0.2
             }
            },
            "type": "barpolar"
           }
          ],
          "carpet": [
           {
            "aaxis": {
             "endlinecolor": "#2a3f5f",
             "gridcolor": "white",
             "linecolor": "white",
             "minorgridcolor": "white",
             "startlinecolor": "#2a3f5f"
            },
            "baxis": {
             "endlinecolor": "#2a3f5f",
             "gridcolor": "white",
             "linecolor": "white",
             "minorgridcolor": "white",
             "startlinecolor": "#2a3f5f"
            },
            "type": "carpet"
           }
          ],
          "choropleth": [
           {
            "colorbar": {
             "outlinewidth": 0,
             "ticks": ""
            },
            "type": "choropleth"
           }
          ],
          "contour": [
           {
            "colorbar": {
             "outlinewidth": 0,
             "ticks": ""
            },
            "colorscale": [
             [
              0,
              "#0d0887"
             ],
             [
              0.1111111111111111,
              "#46039f"
             ],
             [
              0.2222222222222222,
              "#7201a8"
             ],
             [
              0.3333333333333333,
              "#9c179e"
             ],
             [
              0.4444444444444444,
              "#bd3786"
             ],
             [
              0.5555555555555556,
              "#d8576b"
             ],
             [
              0.6666666666666666,
              "#ed7953"
             ],
             [
              0.7777777777777778,
              "#fb9f3a"
             ],
             [
              0.8888888888888888,
              "#fdca26"
             ],
             [
              1,
              "#f0f921"
             ]
            ],
            "type": "contour"
           }
          ],
          "contourcarpet": [
           {
            "colorbar": {
             "outlinewidth": 0,
             "ticks": ""
            },
            "type": "contourcarpet"
           }
          ],
          "heatmap": [
           {
            "colorbar": {
             "outlinewidth": 0,
             "ticks": ""
            },
            "colorscale": [
             [
              0,
              "#0d0887"
             ],
             [
              0.1111111111111111,
              "#46039f"
             ],
             [
              0.2222222222222222,
              "#7201a8"
             ],
             [
              0.3333333333333333,
              "#9c179e"
             ],
             [
              0.4444444444444444,
              "#bd3786"
             ],
             [
              0.5555555555555556,
              "#d8576b"
             ],
             [
              0.6666666666666666,
              "#ed7953"
             ],
             [
              0.7777777777777778,
              "#fb9f3a"
             ],
             [
              0.8888888888888888,
              "#fdca26"
             ],
             [
              1,
              "#f0f921"
             ]
            ],
            "type": "heatmap"
           }
          ],
          "histogram": [
           {
            "marker": {
             "pattern": {
              "fillmode": "overlay",
              "size": 10,
              "solidity": 0.2
             }
            },
            "type": "histogram"
           }
          ],
          "histogram2d": [
           {
            "colorbar": {
             "outlinewidth": 0,
             "ticks": ""
            },
            "colorscale": [
             [
              0,
              "#0d0887"
             ],
             [
              0.1111111111111111,
              "#46039f"
             ],
             [
              0.2222222222222222,
              "#7201a8"
             ],
             [
              0.3333333333333333,
              "#9c179e"
             ],
             [
              0.4444444444444444,
              "#bd3786"
             ],
             [
              0.5555555555555556,
              "#d8576b"
             ],
             [
              0.6666666666666666,
              "#ed7953"
             ],
             [
              0.7777777777777778,
              "#fb9f3a"
             ],
             [
              0.8888888888888888,
              "#fdca26"
             ],
             [
              1,
              "#f0f921"
             ]
            ],
            "type": "histogram2d"
           }
          ],
          "histogram2dcontour": [
           {
            "colorbar": {
             "outlinewidth": 0,
             "ticks": ""
            },
            "colorscale": [
             [
              0,
              "#0d0887"
             ],
             [
              0.1111111111111111,
              "#46039f"
             ],
             [
              0.2222222222222222,
              "#7201a8"
             ],
             [
              0.3333333333333333,
              "#9c179e"
             ],
             [
              0.4444444444444444,
              "#bd3786"
             ],
             [
              0.5555555555555556,
              "#d8576b"
             ],
             [
              0.6666666666666666,
              "#ed7953"
             ],
             [
              0.7777777777777778,
              "#fb9f3a"
             ],
             [
              0.8888888888888888,
              "#fdca26"
             ],
             [
              1,
              "#f0f921"
             ]
            ],
            "type": "histogram2dcontour"
           }
          ],
          "mesh3d": [
           {
            "colorbar": {
             "outlinewidth": 0,
             "ticks": ""
            },
            "type": "mesh3d"
           }
          ],
          "parcoords": [
           {
            "line": {
             "colorbar": {
              "outlinewidth": 0,
              "ticks": ""
             }
            },
            "type": "parcoords"
           }
          ],
          "pie": [
           {
            "automargin": true,
            "type": "pie"
           }
          ],
          "scatter": [
           {
            "fillpattern": {
             "fillmode": "overlay",
             "size": 10,
             "solidity": 0.2
            },
            "type": "scatter"
           }
          ],
          "scatter3d": [
           {
            "line": {
             "colorbar": {
              "outlinewidth": 0,
              "ticks": ""
             }
            },
            "marker": {
             "colorbar": {
              "outlinewidth": 0,
              "ticks": ""
             }
            },
            "type": "scatter3d"
           }
          ],
          "scattercarpet": [
           {
            "marker": {
             "colorbar": {
              "outlinewidth": 0,
              "ticks": ""
             }
            },
            "type": "scattercarpet"
           }
          ],
          "scattergeo": [
           {
            "marker": {
             "colorbar": {
              "outlinewidth": 0,
              "ticks": ""
             }
            },
            "type": "scattergeo"
           }
          ],
          "scattergl": [
           {
            "marker": {
             "colorbar": {
              "outlinewidth": 0,
              "ticks": ""
             }
            },
            "type": "scattergl"
           }
          ],
          "scattermap": [
           {
            "marker": {
             "colorbar": {
              "outlinewidth": 0,
              "ticks": ""
             }
            },
            "type": "scattermap"
           }
          ],
          "scattermapbox": [
           {
            "marker": {
             "colorbar": {
              "outlinewidth": 0,
              "ticks": ""
             }
            },
            "type": "scattermapbox"
           }
          ],
          "scatterpolar": [
           {
            "marker": {
             "colorbar": {
              "outlinewidth": 0,
              "ticks": ""
             }
            },
            "type": "scatterpolar"
           }
          ],
          "scatterpolargl": [
           {
            "marker": {
             "colorbar": {
              "outlinewidth": 0,
              "ticks": ""
             }
            },
            "type": "scatterpolargl"
           }
          ],
          "scatterternary": [
           {
            "marker": {
             "colorbar": {
              "outlinewidth": 0,
              "ticks": ""
             }
            },
            "type": "scatterternary"
           }
          ],
          "surface": [
           {
            "colorbar": {
             "outlinewidth": 0,
             "ticks": ""
            },
            "colorscale": [
             [
              0,
              "#0d0887"
             ],
             [
              0.1111111111111111,
              "#46039f"
             ],
             [
              0.2222222222222222,
              "#7201a8"
             ],
             [
              0.3333333333333333,
              "#9c179e"
             ],
             [
              0.4444444444444444,
              "#bd3786"
             ],
             [
              0.5555555555555556,
              "#d8576b"
             ],
             [
              0.6666666666666666,
              "#ed7953"
             ],
             [
              0.7777777777777778,
              "#fb9f3a"
             ],
             [
              0.8888888888888888,
              "#fdca26"
             ],
             [
              1,
              "#f0f921"
             ]
            ],
            "type": "surface"
           }
          ],
          "table": [
           {
            "cells": {
             "fill": {
              "color": "#EBF0F8"
             },
             "line": {
              "color": "white"
             }
            },
            "header": {
             "fill": {
              "color": "#C8D4E3"
             },
             "line": {
              "color": "white"
             }
            },
            "type": "table"
           }
          ]
         },
         "layout": {
          "annotationdefaults": {
           "arrowcolor": "#2a3f5f",
           "arrowhead": 0,
           "arrowwidth": 1
          },
          "autotypenumbers": "strict",
          "coloraxis": {
           "colorbar": {
            "outlinewidth": 0,
            "ticks": ""
           }
          },
          "colorscale": {
           "diverging": [
            [
             0,
             "#8e0152"
            ],
            [
             0.1,
             "#c51b7d"
            ],
            [
             0.2,
             "#de77ae"
            ],
            [
             0.3,
             "#f1b6da"
            ],
            [
             0.4,
             "#fde0ef"
            ],
            [
             0.5,
             "#f7f7f7"
            ],
            [
             0.6,
             "#e6f5d0"
            ],
            [
             0.7,
             "#b8e186"
            ],
            [
             0.8,
             "#7fbc41"
            ],
            [
             0.9,
             "#4d9221"
            ],
            [
             1,
             "#276419"
            ]
           ],
           "sequential": [
            [
             0,
             "#0d0887"
            ],
            [
             0.1111111111111111,
             "#46039f"
            ],
            [
             0.2222222222222222,
             "#7201a8"
            ],
            [
             0.3333333333333333,
             "#9c179e"
            ],
            [
             0.4444444444444444,
             "#bd3786"
            ],
            [
             0.5555555555555556,
             "#d8576b"
            ],
            [
             0.6666666666666666,
             "#ed7953"
            ],
            [
             0.7777777777777778,
             "#fb9f3a"
            ],
            [
             0.8888888888888888,
             "#fdca26"
            ],
            [
             1,
             "#f0f921"
            ]
           ],
           "sequentialminus": [
            [
             0,
             "#0d0887"
            ],
            [
             0.1111111111111111,
             "#46039f"
            ],
            [
             0.2222222222222222,
             "#7201a8"
            ],
            [
             0.3333333333333333,
             "#9c179e"
            ],
            [
             0.4444444444444444,
             "#bd3786"
            ],
            [
             0.5555555555555556,
             "#d8576b"
            ],
            [
             0.6666666666666666,
             "#ed7953"
            ],
            [
             0.7777777777777778,
             "#fb9f3a"
            ],
            [
             0.8888888888888888,
             "#fdca26"
            ],
            [
             1,
             "#f0f921"
            ]
           ]
          },
          "colorway": [
           "#636efa",
           "#EF553B",
           "#00cc96",
           "#ab63fa",
           "#FFA15A",
           "#19d3f3",
           "#FF6692",
           "#B6E880",
           "#FF97FF",
           "#FECB52"
          ],
          "font": {
           "color": "#2a3f5f"
          },
          "geo": {
           "bgcolor": "white",
           "lakecolor": "white",
           "landcolor": "#E5ECF6",
           "showlakes": true,
           "showland": true,
           "subunitcolor": "white"
          },
          "hoverlabel": {
           "align": "left"
          },
          "hovermode": "closest",
          "mapbox": {
           "style": "light"
          },
          "paper_bgcolor": "white",
          "plot_bgcolor": "#E5ECF6",
          "polar": {
           "angularaxis": {
            "gridcolor": "white",
            "linecolor": "white",
            "ticks": ""
           },
           "bgcolor": "#E5ECF6",
           "radialaxis": {
            "gridcolor": "white",
            "linecolor": "white",
            "ticks": ""
           }
          },
          "scene": {
           "xaxis": {
            "backgroundcolor": "#E5ECF6",
            "gridcolor": "white",
            "gridwidth": 2,
            "linecolor": "white",
            "showbackground": true,
            "ticks": "",
            "zerolinecolor": "white"
           },
           "yaxis": {
            "backgroundcolor": "#E5ECF6",
            "gridcolor": "white",
            "gridwidth": 2,
            "linecolor": "white",
            "showbackground": true,
            "ticks": "",
            "zerolinecolor": "white"
           },
           "zaxis": {
            "backgroundcolor": "#E5ECF6",
            "gridcolor": "white",
            "gridwidth": 2,
            "linecolor": "white",
            "showbackground": true,
            "ticks": "",
            "zerolinecolor": "white"
           }
          },
          "shapedefaults": {
           "line": {
            "color": "#2a3f5f"
           }
          },
          "ternary": {
           "aaxis": {
            "gridcolor": "white",
            "linecolor": "white",
            "ticks": ""
           },
           "baxis": {
            "gridcolor": "white",
            "linecolor": "white",
            "ticks": ""
           },
           "bgcolor": "#E5ECF6",
           "caxis": {
            "gridcolor": "white",
            "linecolor": "white",
            "ticks": ""
           }
          },
          "title": {
           "x": 0.05
          },
          "xaxis": {
           "automargin": true,
           "gridcolor": "white",
           "linecolor": "white",
           "ticks": "",
           "title": {
            "standoff": 15
           },
           "zerolinecolor": "white",
           "zerolinewidth": 2
          },
          "yaxis": {
           "automargin": true,
           "gridcolor": "white",
           "linecolor": "white",
           "ticks": "",
           "title": {
            "standoff": 15
           },
           "zerolinecolor": "white",
           "zerolinewidth": 2
          }
         }
        },
        "title": {
         "font": {
          "family": "Arial Black",
          "size": 24
         },
         "text": "<b>Global E-Waste Export Flows (Numbered)</b>",
         "x": 0.5,
         "xanchor": "center"
        },
        "width": 1400
       }
      }
     },
     "metadata": {},
     "output_type": "display_data"
    }
   ],
   "source": [
    "import pandas as pd\n",
    "import plotly.graph_objects as go\n",
    "from geopy.geocoders import Nominatim\n",
    "import time\n",
    "from tqdm import tqdm\n",
    "\n",
    "# 1. Load and prepare data\n",
    "print(\"\\n🔍 Preparing data...\")\n",
    "df = pd.read_csv(\"e_waste_dataset.csv\")  # Use your actual file\n",
    "\n",
    "# City-to-country mapping — customize as needed\n",
    "city_to_country = {\n",
    "    'New York': 'United States',\n",
    "    'Berlin': 'Germany',\n",
    "    'Tokyo': 'Japan',\n",
    "    'London': 'United Kingdom',\n",
    "    'Paris': 'France',\n",
    "    'Mumbai': 'India',\n",
    "    'Shanghai': 'China',\n",
    "    'Sydney': 'Australia',\n",
    "    'Toronto': 'Canada',\n",
    "    'São Paulo': 'Brazil'\n",
    "}\n",
    "\n",
    "df['Origin_Country'] = df['Location'].map(city_to_country).fillna(df['Location'])\n",
    "\n",
    "# 2. Geocoding setup\n",
    "print(\"\\n🌍 Geocoding locations...\")\n",
    "geolocator = Nominatim(user_agent=\"ewaste_flow_analysis_numbered\")\n",
    "coordinate_cache = {}\n",
    "\n",
    "def get_coordinates(place):\n",
    "    if place in coordinate_cache:\n",
    "        return coordinate_cache[place]\n",
    "    \n",
    "    try:\n",
    "        location = geolocator.geocode(place)\n",
    "        time.sleep(1.1)\n",
    "        if location:\n",
    "            coords = {'lat': location.latitude, 'lon': location.longitude}\n",
    "            coordinate_cache[place] = coords\n",
    "            return coords\n",
    "        return {'lat': 0, 'lon': 0}\n",
    "    except Exception as e:\n",
    "        print(f\"⚠️ Could not geocode {place}: {str(e)}\")\n",
    "        return {'lat': 0, 'lon': 0}\n",
    "\n",
    "# 3. Data aggregation\n",
    "print(\"\\n📊 Processing data...\")\n",
    "flow_data = df.groupby(['Location', 'Exported_To']).agg(\n",
    "    Total_Weight=('Weight_kg', 'sum'),\n",
    "    Shipment_Count=('Weight_kg', 'count')\n",
    ").reset_index()\n",
    "\n",
    "origin_list = flow_data['Location'].unique()\n",
    "destination_list = flow_data['Exported_To'].unique()\n",
    "all_places = list(origin_list) + list(destination_list)\n",
    "\n",
    "# Geocode all unique locations\n",
    "print(\"⏳ Geocoding progress:\")\n",
    "for place in tqdm(all_places):\n",
    "    get_coordinates(place)\n",
    "\n",
    "# 4. Create visualization\n",
    "print(\"\\n🎨 Creating visualization...\")\n",
    "fig = go.Figure(layout=go.Layout(width=1400, height=800, autosize=False))\n",
    "color_scale = ['#FF6B6B', '#4ECDC4', '#45B7D1', '#FFA07A', '#98D8C8']\n",
    "\n",
    "# Draw flow lines\n",
    "for i, row in flow_data.iterrows():\n",
    "    origin = get_coordinates(row['Location'])\n",
    "    dest = get_coordinates(row['Exported_To'])\n",
    "\n",
    "    fig.add_trace(go.Scattergeo(\n",
    "        lon=[origin['lon'], dest['lon']],\n",
    "        lat=[origin['lat'], dest['lat']],\n",
    "        mode='lines',\n",
    "        line=dict(\n",
    "            width=0.5 + (row['Total_Weight'] / flow_data['Total_Weight'].max() * 5),\n",
    "            color=color_scale[i % len(color_scale)]\n",
    "        ),\n",
    "        opacity=0.7,\n",
    "        hoverinfo='text',\n",
    "        text=(f\"<b>From:</b> {row['Location']}<br>\"\n",
    "              f\"<b>To:</b> {row['Exported_To']}<br>\"\n",
    "              f\"<b>Total Weight:</b> {row['Total_Weight']:,.2f} kg<br>\"\n",
    "              f\"<b>Shipments:</b> {row['Shipment_Count']}\"),\n",
    "        showlegend=False\n",
    "    ))\n",
    "\n",
    "# Add origin points with numbers\n",
    "fig.add_trace(go.Scattergeo(\n",
    "    lon=[get_coordinates(loc)['lon'] for loc in origin_list],\n",
    "    lat=[get_coordinates(loc)['lat'] for loc in origin_list],\n",
    "    mode='markers+text',\n",
    "    marker=dict(size=12, color='#4285F4', line=dict(width=2, color='white')),\n",
    "    text=[f\"{i+1}. {loc}\" for i, loc in enumerate(origin_list)],\n",
    "    textposition=\"top center\",\n",
    "    hoverinfo='text',\n",
    "    name='Collection Points'\n",
    "))\n",
    "\n",
    "# Add destination points with numbers\n",
    "fig.add_trace(go.Scattergeo(\n",
    "    lon=[get_coordinates(loc)['lon'] for loc in destination_list],\n",
    "    lat=[get_coordinates(loc)['lat'] for loc in destination_list],\n",
    "    mode='markers+text',\n",
    "    marker=dict(size=12, color='#EA4335', symbol='diamond', line=dict(width=2, color='white')),\n",
    "    text=[f\"{i+1}. {loc}\" for i, loc in enumerate(destination_list)],\n",
    "    textposition=\"top center\",\n",
    "    hoverinfo='text',\n",
    "    name='Export Destinations'\n",
    "))\n",
    "\n",
    "# Layout configuration\n",
    "fig.update_layout(\n",
    "    title=dict(\n",
    "        text='<b>Global E-Waste Export Flows (Numbered)</b>',\n",
    "        font=dict(size=24, family=\"Arial Black\"),\n",
    "        x=0.5,\n",
    "        xanchor='center'\n",
    "    ),\n",
    "    geo=dict(\n",
    "        scope='world',\n",
    "        projection_type='natural earth',\n",
    "        showland=True,\n",
    "        landcolor='rgb(240, 240, 240)',\n",
    "        countrycolor='rgb(200, 200, 200)',\n",
    "        showocean=True,\n",
    "        oceancolor='rgb(220, 240, 255)',\n",
    "        showcountries=True,\n",
    "        showframe=False\n",
    "    ),\n",
    "    margin=dict(l=10, r=10, t=80, b=0),\n",
    "    hoverlabel=dict(\n",
    "        bgcolor='white',\n",
    "        font_size=14,\n",
    "        font_family='Arial'\n",
    "    ),\n",
    "    plot_bgcolor='rgb(250, 250, 250)',\n",
    "    paper_bgcolor='rgb(250, 250, 250)'\n",
    ")\n",
    "\n",
    "# 5. Save outputs\n",
    "print(\"\\n💾 Saving visualization...\")\n",
    "fig.write_html(\"e_waste_export_flow_numbered.html\")\n",
    "print(\"✅ Saved as 'e_waste_export_flow_numbered.html'\")\n",
    "\n",
    "print(\"\\n📄 Saving label reference table...\")\n",
    "origin_labels = pd.DataFrame({\n",
    "    'No.': range(1, len(origin_list) + 1),\n",
    "    'City': origin_list,\n",
    "    'Country': [city_to_country.get(loc, loc) for loc in origin_list]\n",
    "})\n",
    "origin_labels.to_csv(\"origin_label_reference.csv\", index=False)\n",
    "print(\"✅ Saved as 'origin_label_reference.csv'\")\n",
    "\n",
    "print(\"\\n🖥️ Displaying visualization...\")\n",
    "fig.show()\n"
   ]
  },
  {
   "cell_type": "code",
   "execution_count": null,
   "id": "5f103442",
   "metadata": {},
   "outputs": [],
   "source": []
  }
 ],
 "metadata": {
  "kernelspec": {
   "display_name": "Python 3",
   "language": "python",
   "name": "python3"
  },
  "language_info": {
   "codemirror_mode": {
    "name": "ipython",
    "version": 3
   },
   "file_extension": ".py",
   "mimetype": "text/x-python",
   "name": "python",
   "nbconvert_exporter": "python",
   "pygments_lexer": "ipython3",
   "version": "3.10.0"
  }
 },
 "nbformat": 4,
 "nbformat_minor": 5
}
