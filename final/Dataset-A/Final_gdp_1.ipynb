{
 "cells": [
  {
   "cell_type": "markdown",
   "metadata": {},
   "source": [
    "# E-Waste Generation VS GDP"
   ]
  },
  {
   "cell_type": "markdown",
   "metadata": {},
   "source": [
    "The analysis will include:\n",
    "\n",
    "Data cleaning and preprocessing\n",
    "\n",
    "Descriptive statistics\n",
    "\n",
    "Correlation analysis\n",
    "\n",
    "Trend analysis\n",
    "\n",
    "Visualization"
   ]
  },
  {
   "cell_type": "code",
   "execution_count": 2,
   "metadata": {},
   "outputs": [],
   "source": [
    "import pandas as pd"
   ]
  },
  {
   "cell_type": "code",
   "execution_count": 2,
   "metadata": {},
   "outputs": [],
   "source": [
    "# gdp_csv = pd.read_csv('GDP_by_Country_1999-2022.csv')\n",
    "# gdp_csv.head()"
   ]
  },
  {
   "cell_type": "code",
   "execution_count": 3,
   "metadata": {},
   "outputs": [],
   "source": [
    "# countries = [\n",
    "#     'Switzerland', 'Sweden', 'Norway', 'Germany', 'Canada',\n",
    "#     'India', 'China', 'Japan', 'Korea', 'Indonesia'\n",
    "# ]\n",
    "\n",
    "# filtered_gdp_csv = gdp_csv[gdp_csv['Country'].isin(countries)]\n",
    "\n",
    "# year_columns = [str(year) for year in range(2017, 2022)]\n",
    "# columns_to_keep = ['Country'] + year_columns\n",
    "\n",
    "# final_gdp_csv = filtered_gdp_csv[columns_to_keep]\n",
    "\n",
    "# final_gdp_csv.to_csv('GDP_2017_2024.csv', index=False)\n",
    "# print(\"Saved: GDP_2017_2024.csv\")"
   ]
  },
  {
   "cell_type": "code",
   "execution_count": 3,
   "metadata": {},
   "outputs": [
    {
     "data": {
      "text/html": [
       "<div>\n",
       "<style scoped>\n",
       "    .dataframe tbody tr th:only-of-type {\n",
       "        vertical-align: middle;\n",
       "    }\n",
       "\n",
       "    .dataframe tbody tr th {\n",
       "        vertical-align: top;\n",
       "    }\n",
       "\n",
       "    .dataframe thead th {\n",
       "        text-align: right;\n",
       "    }\n",
       "</style>\n",
       "<table border=\"1\" class=\"dataframe\">\n",
       "  <thead>\n",
       "    <tr style=\"text-align: right;\">\n",
       "      <th></th>\n",
       "      <th>Country</th>\n",
       "      <th>2017</th>\n",
       "      <th>2018</th>\n",
       "      <th>2019</th>\n",
       "      <th>2020</th>\n",
       "      <th>2021</th>\n",
       "    </tr>\n",
       "  </thead>\n",
       "  <tbody>\n",
       "    <tr>\n",
       "      <th>0</th>\n",
       "      <td>Canada</td>\n",
       "      <td>1,682.37</td>\n",
       "      <td>1,773.80</td>\n",
       "      <td>1,860.06</td>\n",
       "      <td>1,958.15</td>\n",
       "      <td>2,015.98</td>\n",
       "    </tr>\n",
       "    <tr>\n",
       "      <th>1</th>\n",
       "      <td>China</td>\n",
       "      <td>13,173.59</td>\n",
       "      <td>14,272.35</td>\n",
       "      <td>15,620.71</td>\n",
       "      <td>17,100.06</td>\n",
       "      <td>16,862.98</td>\n",
       "    </tr>\n",
       "    <tr>\n",
       "      <th>2</th>\n",
       "      <td>Germany</td>\n",
       "      <td>3,595.41</td>\n",
       "      <td>3,721.37</td>\n",
       "      <td>3,846.70</td>\n",
       "      <td>4,004.94</td>\n",
       "      <td>4,230.17</td>\n",
       "    </tr>\n",
       "    <tr>\n",
       "      <th>3</th>\n",
       "      <td>India</td>\n",
       "      <td>2,607.41</td>\n",
       "      <td>2,846.16</td>\n",
       "      <td>3,131.95</td>\n",
       "      <td>3,443.60</td>\n",
       "      <td>2,946.06</td>\n",
       "    </tr>\n",
       "    <tr>\n",
       "      <th>4</th>\n",
       "      <td>Indonesia</td>\n",
       "      <td>950.438</td>\n",
       "      <td>1,021.23</td>\n",
       "      <td>1,103.29</td>\n",
       "      <td>1,193.91</td>\n",
       "      <td>1,150.25</td>\n",
       "    </tr>\n",
       "    <tr>\n",
       "      <th>5</th>\n",
       "      <td>Japan</td>\n",
       "      <td>4,342.16</td>\n",
       "      <td>4,446.33</td>\n",
       "      <td>4,590.91</td>\n",
       "      <td>4,746.88</td>\n",
       "      <td>5,103.11</td>\n",
       "    </tr>\n",
       "    <tr>\n",
       "      <th>6</th>\n",
       "      <td>Korea</td>\n",
       "      <td>1,545.81</td>\n",
       "      <td>1,649.08</td>\n",
       "      <td>1,763.36</td>\n",
       "      <td>1,898.76</td>\n",
       "      <td>1,823.85</td>\n",
       "    </tr>\n",
       "    <tr>\n",
       "      <th>7</th>\n",
       "      <td>Norway</td>\n",
       "      <td>415.19</td>\n",
       "      <td>436.472</td>\n",
       "      <td>453.441</td>\n",
       "      <td>470.99</td>\n",
       "      <td>445.507</td>\n",
       "    </tr>\n",
       "    <tr>\n",
       "      <th>8</th>\n",
       "      <td>Sweden</td>\n",
       "      <td>519.636</td>\n",
       "      <td>541.467</td>\n",
       "      <td>562.124</td>\n",
       "      <td>585.743</td>\n",
       "      <td>622.365</td>\n",
       "    </tr>\n",
       "    <tr>\n",
       "      <th>9</th>\n",
       "      <td>Switzerland</td>\n",
       "      <td>707.527</td>\n",
       "      <td>727.226</td>\n",
       "      <td>746.28</td>\n",
       "      <td>770.927</td>\n",
       "      <td>810.83</td>\n",
       "    </tr>\n",
       "  </tbody>\n",
       "</table>\n",
       "</div>"
      ],
      "text/plain": [
       "       Country       2017       2018       2019       2020       2021\n",
       "0       Canada   1,682.37   1,773.80   1,860.06   1,958.15   2,015.98\n",
       "1        China  13,173.59  14,272.35  15,620.71  17,100.06  16,862.98\n",
       "2      Germany   3,595.41   3,721.37   3,846.70   4,004.94   4,230.17\n",
       "3        India   2,607.41   2,846.16   3,131.95   3,443.60   2,946.06\n",
       "4    Indonesia    950.438   1,021.23   1,103.29   1,193.91   1,150.25\n",
       "5        Japan   4,342.16   4,446.33   4,590.91   4,746.88   5,103.11\n",
       "6        Korea   1,545.81   1,649.08   1,763.36   1,898.76   1,823.85\n",
       "7       Norway     415.19    436.472    453.441     470.99    445.507\n",
       "8       Sweden    519.636    541.467    562.124    585.743    622.365\n",
       "9  Switzerland    707.527    727.226     746.28    770.927     810.83"
      ]
     },
     "execution_count": 3,
     "metadata": {},
     "output_type": "execute_result"
    }
   ],
   "source": [
    "gdp_new_csv = pd.read_csv('GDP_2017_2024.csv')\n",
    "gdp_new_csv"
   ]
  },
  {
   "cell_type": "code",
   "execution_count": 5,
   "metadata": {},
   "outputs": [],
   "source": [
    "# gdp_new_csv['Country'] = gdp_new_csv['Country'].replace('Korea', 'South Korea')\n",
    "# \n",
    "# gdp_new_csv"
   ]
  },
  {
   "cell_type": "markdown",
   "metadata": {},
   "source": [
    "Normalizing the GDP"
   ]
  },
  {
   "cell_type": "code",
   "execution_count": 6,
   "metadata": {},
   "outputs": [
    {
     "name": "stdout",
     "output_type": "stream",
     "text": [
      "     Country  Year  gdp_new_csv (US$ billions)\n",
      "0     Canada  2017                    1682.370\n",
      "1      China  2017                   13173.590\n",
      "2    Germany  2017                    3595.410\n",
      "3      India  2017                    2607.410\n",
      "4  Indonesia  2017                     950.438\n"
     ]
    }
   ],
   "source": [
    "gdp_new_csv_long = pd.melt(\n",
    "    gdp_new_csv,\n",
    "    id_vars=\"Country\",\n",
    "    value_vars=[\"2017\", \"2018\", \"2019\", \"2020\", \"2021\"],\n",
    "    var_name=\"Year\",\n",
    "    value_name=\"gdp_new_csv (US$ billions)\"\n",
    ")\n",
    "\n",
    "# Convert Year to integer and gdp_new_csv to numeric (removing commas)\n",
    "gdp_new_csv_long[\"Year\"] = gdp_new_csv_long[\"Year\"].astype(int)\n",
    "gdp_new_csv_long[\"gdp_new_csv (US$ billions)\"] = (\n",
    "    gdp_new_csv_long[\"gdp_new_csv (US$ billions)\"].str.replace(\",\", \"\").astype(float)\n",
    ")\n",
    "\n",
    "print(gdp_new_csv_long.head())"
   ]
  },
  {
   "cell_type": "markdown",
   "metadata": {},
   "source": [
    "Normalizing the E-waste data"
   ]
  },
  {
   "cell_type": "code",
   "execution_count": 7,
   "metadata": {},
   "outputs": [],
   "source": [
    "df1 = pd.read_csv('e-waste-country-1.csv')\n",
    "df2 = pd.read_csv('e-waste-country-2.csv')\n",
    "\n",
    "merged_df = pd.concat([df1, df2], ignore_index=True)\n",
    "\n",
    "merged_df.to_csv('waste_merged_file.csv', index=False)\n"
   ]
  },
  {
   "cell_type": "code",
   "execution_count": 8,
   "metadata": {},
   "outputs": [
    {
     "data": {
      "text/html": [
       "<div>\n",
       "<style scoped>\n",
       "    .dataframe tbody tr th:only-of-type {\n",
       "        vertical-align: middle;\n",
       "    }\n",
       "\n",
       "    .dataframe tbody tr th {\n",
       "        vertical-align: top;\n",
       "    }\n",
       "\n",
       "    .dataframe thead th {\n",
       "        text-align: right;\n",
       "    }\n",
       "</style>\n",
       "<table border=\"1\" class=\"dataframe\">\n",
       "  <thead>\n",
       "    <tr style=\"text-align: right;\">\n",
       "      <th></th>\n",
       "      <th>Country</th>\n",
       "      <th>2017</th>\n",
       "      <th>2018</th>\n",
       "      <th>2019</th>\n",
       "      <th>2020</th>\n",
       "      <th>2021</th>\n",
       "      <th>2022</th>\n",
       "      <th>2023</th>\n",
       "      <th>2024</th>\n",
       "    </tr>\n",
       "  </thead>\n",
       "  <tbody>\n",
       "    <tr>\n",
       "      <th>0</th>\n",
       "      <td>India</td>\n",
       "      <td>708445.0</td>\n",
       "      <td>771215.0</td>\n",
       "      <td>1014961.21</td>\n",
       "      <td>1346496.31</td>\n",
       "      <td>1601155.36</td>\n",
       "      <td>1609117.21</td>\n",
       "      <td>1751096.48</td>\n",
       "      <td>1823690.51</td>\n",
       "    </tr>\n",
       "    <tr>\n",
       "      <th>1</th>\n",
       "      <td>China</td>\n",
       "      <td>1842120.0</td>\n",
       "      <td>1958000.0</td>\n",
       "      <td>2228421.00</td>\n",
       "      <td>2853610.00</td>\n",
       "      <td>3153228.00</td>\n",
       "      <td>3266180.00</td>\n",
       "      <td>4220480.00</td>\n",
       "      <td>5120804.00</td>\n",
       "    </tr>\n",
       "    <tr>\n",
       "      <th>2</th>\n",
       "      <td>Japan</td>\n",
       "      <td>1139000.0</td>\n",
       "      <td>1200000.0</td>\n",
       "      <td>1345218.00</td>\n",
       "      <td>1893041.00</td>\n",
       "      <td>2512743.00</td>\n",
       "      <td>2638000.00</td>\n",
       "      <td>2699043.00</td>\n",
       "      <td>2791867.00</td>\n",
       "    </tr>\n",
       "    <tr>\n",
       "      <th>3</th>\n",
       "      <td>Korea</td>\n",
       "      <td>1152807.0</td>\n",
       "      <td>1236793.0</td>\n",
       "      <td>1303679.00</td>\n",
       "      <td>1400340.00</td>\n",
       "      <td>1583409.00</td>\n",
       "      <td>1703400.00</td>\n",
       "      <td>1783423.00</td>\n",
       "      <td>1832307.00</td>\n",
       "    </tr>\n",
       "    <tr>\n",
       "      <th>4</th>\n",
       "      <td>Indonesia</td>\n",
       "      <td>305645.0</td>\n",
       "      <td>332465.0</td>\n",
       "      <td>496536.00</td>\n",
       "      <td>765487.00</td>\n",
       "      <td>869087.00</td>\n",
       "      <td>1920546.00</td>\n",
       "      <td>1962197.00</td>\n",
       "      <td>1987960.00</td>\n",
       "    </tr>\n",
       "    <tr>\n",
       "      <th>5</th>\n",
       "      <td>Switzerland</td>\n",
       "      <td>410000.0</td>\n",
       "      <td>430000.0</td>\n",
       "      <td>450000.00</td>\n",
       "      <td>418113.00</td>\n",
       "      <td>430000.00</td>\n",
       "      <td>439500.00</td>\n",
       "      <td>426700.00</td>\n",
       "      <td>449600.00</td>\n",
       "    </tr>\n",
       "    <tr>\n",
       "      <th>6</th>\n",
       "      <td>Sweden</td>\n",
       "      <td>138610.0</td>\n",
       "      <td>123220.0</td>\n",
       "      <td>211000.00</td>\n",
       "      <td>215000.00</td>\n",
       "      <td>228000.00</td>\n",
       "      <td>231000.00</td>\n",
       "      <td>239000.00</td>\n",
       "      <td>241200.00</td>\n",
       "    </tr>\n",
       "    <tr>\n",
       "      <th>7</th>\n",
       "      <td>Norway</td>\n",
       "      <td>143600.0</td>\n",
       "      <td>145000.0</td>\n",
       "      <td>146500.00</td>\n",
       "      <td>147800.00</td>\n",
       "      <td>148600.00</td>\n",
       "      <td>149000.00</td>\n",
       "      <td>150200.00</td>\n",
       "      <td>151700.00</td>\n",
       "    </tr>\n",
       "    <tr>\n",
       "      <th>8</th>\n",
       "      <td>Germany</td>\n",
       "      <td>863412.0</td>\n",
       "      <td>853124.0</td>\n",
       "      <td>810203.00</td>\n",
       "      <td>756321.00</td>\n",
       "      <td>682300.00</td>\n",
       "      <td>623010.00</td>\n",
       "      <td>593212.00</td>\n",
       "      <td>613280.00</td>\n",
       "    </tr>\n",
       "    <tr>\n",
       "      <th>9</th>\n",
       "      <td>Canada</td>\n",
       "      <td>625132.0</td>\n",
       "      <td>685810.0</td>\n",
       "      <td>740532.00</td>\n",
       "      <td>745732.00</td>\n",
       "      <td>810321.00</td>\n",
       "      <td>813276.00</td>\n",
       "      <td>835762.00</td>\n",
       "      <td>865673.00</td>\n",
       "    </tr>\n",
       "  </tbody>\n",
       "</table>\n",
       "</div>"
      ],
      "text/plain": [
       "       Country       2017       2018        2019        2020        2021  \\\n",
       "0        India   708445.0   771215.0  1014961.21  1346496.31  1601155.36   \n",
       "1        China  1842120.0  1958000.0  2228421.00  2853610.00  3153228.00   \n",
       "2        Japan  1139000.0  1200000.0  1345218.00  1893041.00  2512743.00   \n",
       "3        Korea  1152807.0  1236793.0  1303679.00  1400340.00  1583409.00   \n",
       "4    Indonesia   305645.0   332465.0   496536.00   765487.00   869087.00   \n",
       "5  Switzerland   410000.0   430000.0   450000.00   418113.00   430000.00   \n",
       "6       Sweden   138610.0   123220.0   211000.00   215000.00   228000.00   \n",
       "7       Norway   143600.0   145000.0   146500.00   147800.00   148600.00   \n",
       "8      Germany   863412.0   853124.0   810203.00   756321.00   682300.00   \n",
       "9       Canada   625132.0   685810.0   740532.00   745732.00   810321.00   \n",
       "\n",
       "         2022        2023        2024  \n",
       "0  1609117.21  1751096.48  1823690.51  \n",
       "1  3266180.00  4220480.00  5120804.00  \n",
       "2  2638000.00  2699043.00  2791867.00  \n",
       "3  1703400.00  1783423.00  1832307.00  \n",
       "4  1920546.00  1962197.00  1987960.00  \n",
       "5   439500.00   426700.00   449600.00  \n",
       "6   231000.00   239000.00   241200.00  \n",
       "7   149000.00   150200.00   151700.00  \n",
       "8   623010.00   593212.00   613280.00  \n",
       "9   813276.00   835762.00   865673.00  "
      ]
     },
     "execution_count": 8,
     "metadata": {},
     "output_type": "execute_result"
    }
   ],
   "source": [
    "datas = pd.read_csv('final_merged_file.csv')\n",
    "datas"
   ]
  },
  {
   "cell_type": "code",
   "execution_count": 9,
   "metadata": {},
   "outputs": [
    {
     "name": "stdout",
     "output_type": "stream",
     "text": [
      "     Country  Year  e-waste_new_csv (waste in tonnes)\n",
      "0      India  2017                           708445.0\n",
      "1      China  2017                          1842120.0\n",
      "2      Japan  2017                          1139000.0\n",
      "3      Korea  2017                          1152807.0\n",
      "4  Indonesia  2017                           305645.0\n"
     ]
    }
   ],
   "source": [
    "ewaste_new_csv = pd.read_csv('final_merged_file.csv')\n",
    "\n",
    "ewaste_new_csv_long = pd.melt(\n",
    "    ewaste_new_csv,\n",
    "    id_vars=\"Country\",\n",
    "    value_vars=[\"2017\", \"2018\", \"2019\", \"2020\", \"2021\"],\n",
    "    var_name=\"Year\",\n",
    "    value_name=\"e-waste_new_csv (waste in tonnes)\"\n",
    ")\n",
    "\n",
    "# Convert Year to integer and e-waste_new_csv to numeric (removing commas)\n",
    "ewaste_new_csv_long[\"Year\"] = ewaste_new_csv_long[\"Year\"].astype(int)\n",
    "\n",
    "\n",
    "print(ewaste_new_csv_long.head())"
   ]
  },
  {
   "cell_type": "markdown",
   "metadata": {},
   "source": [
    "# ANALYSIS ON THE DATASET"
   ]
  },
  {
   "cell_type": "markdown",
   "metadata": {},
   "source": [
    "## **1. Data Preprocessing**\n",
    "\n",
    "\n",
    "What's happening:\n",
    "\n",
    "We load both datasets and clean the GDP values (removing commas)\n",
    "\n",
    "Convert from wide to long format for easier analysis\n",
    "\n",
    "Merge the datasets on Country and Year\n",
    "\n",
    "Calculate a new metric: E-Waste per $B GDP (normalizes waste by economic size)"
   ]
  },
  {
   "cell_type": "code",
   "execution_count": 10,
   "metadata": {},
   "outputs": [],
   "source": [
    "import pandas as pd\n",
    "import numpy as np\n",
    "import matplotlib.pyplot as plt\n",
    "import seaborn as sns\n",
    "from scipy import stats"
   ]
  },
  {
   "cell_type": "code",
   "execution_count": 11,
   "metadata": {},
   "outputs": [
    {
     "name": "stdout",
     "output_type": "stream",
     "text": [
      "     Country  Year  E-Waste (kt)   GDP ($B)  E-Waste per $B GDP\n",
      "0      India  2017      708445.0   2607.410          271.704488\n",
      "1      China  2017     1842120.0  13173.590          139.834320\n",
      "2      Japan  2017     1139000.0   4342.160          262.311845\n",
      "3      Korea  2017     1152807.0   1545.810          745.762416\n",
      "4  Indonesia  2017      305645.0    950.438          321.583312\n"
     ]
    }
   ],
   "source": [
    "ewaste_df = pd.read_csv('final_merged_file.csv')\n",
    "gdp_df = pd.read_csv('GDP_2017_2024.csv')\n",
    "\n",
    "numeric_cols = gdp_df.columns[gdp_df.columns != 'Country']\n",
    "gdp_df[numeric_cols] = gdp_df[numeric_cols].replace(',', '', regex=True).astype(float)\n",
    "\n",
    "ewaste_long = ewaste_df.melt(id_vars='Country', var_name='Year', value_name='E-Waste (kt)')\n",
    "gdp_long = gdp_df.melt(id_vars='Country', var_name='Year', value_name='GDP ($B)')\n",
    "\n",
    "merged_df = pd.merge(ewaste_long, gdp_long, on=['Country', 'Year'])\n",
    "merged_df['Year'] = merged_df['Year'].astype(int)\n",
    "\n",
    "merged_df['E-Waste per $B GDP'] = merged_df['E-Waste (kt)'] / merged_df['GDP ($B)']\n",
    "\n",
    "print(merged_df.head())"
   ]
  },
  {
   "cell_type": "markdown",
   "metadata": {},
   "source": [
    "### **A. GDP vs. E-Waste by Country (Interactive)**"
   ]
  },
  {
   "cell_type": "code",
   "execution_count": 12,
   "metadata": {},
   "outputs": [],
   "source": [
    "import plotly.express as px"
   ]
  },
  {
   "cell_type": "code",
   "execution_count": 13,
   "metadata": {},
   "outputs": [
    {
     "data": {
      "application/vnd.plotly.v1+json": {
       "config": {
        "plotlyServerURL": "https://plot.ly"
       },
       "data": [
        {
         "customdata": {
          "bdata": "4QfiB+MH5AflBw==",
          "dtype": "i2",
          "shape": "5, 1"
         },
         "hovertemplate": "Country=India<br>GDP ($B)=%{x}<br>E-Waste (kt)=%{marker.size}<br>Year=%{customdata[0]}<extra></extra>",
         "legendgroup": "India",
         "marker": {
          "color": "#636efa",
          "size": {
           "bdata": "AAAAALqeJUEAAAAAHoknQbgehWti+S5B9ihcT8CLNEHD9Shcg244QQ==",
           "dtype": "f8"
          },
          "sizemode": "area",
          "sizeref": 7883.07,
          "symbol": "circle"
         },
         "mode": "markers",
         "name": "India",
         "orientation": "v",
         "showlegend": true,
         "type": "scatter",
         "x": {
          "bdata": "uB6F69FepEC4HoXrUTymQGZmZmbmd6hAMzMzMzPnqkCF61G4HgSnQA==",
          "dtype": "f8"
         },
         "xaxis": "x",
         "y": {
          "bdata": "AAAAALqeJUEAAAAAHoknQbgehWti+S5B9ihcT8CLNEHD9Shcg244QQ==",
          "dtype": "f8"
         },
         "yaxis": "y"
        },
        {
         "hovertemplate": "<b>OLS trendline</b><br>E-Waste (kt) = 696.876 * GDP ($B) + -998714<br>R<sup>2</sup>=0.330602<br><br>Country=India<br>GDP ($B)=%{x}<br>E-Waste (kt)=%{y} <b>(trend)</b><extra></extra>",
         "legendgroup": "India",
         "marker": {
          "color": "#636efa",
          "symbol": "circle"
         },
         "mode": "lines",
         "name": "India",
         "showlegend": false,
         "type": "scatter",
         "x": {
          "bdata": "uB6F69FepEC4HoXrUTymQIXrUbgeBKdAZmZmZuZ3qEAzMzMzM+eqQA==",
          "dtype": "f8"
         },
         "xaxis": "x",
         "y": {
          "bdata": "mxyBxS75KEEnFOT6BA0uQe4yqGJ0FjBBQm0gonoQMkGMdUz812A1QQ==",
          "dtype": "f8"
         },
         "yaxis": "y"
        },
        {
         "customdata": {
          "bdata": "4QfiB+MH5AflBw==",
          "dtype": "i2",
          "shape": "5, 1"
         },
         "hovertemplate": "Country=China<br>GDP ($B)=%{x}<br>E-Waste (kt)=%{marker.size}<br>Year=%{customdata[0]}<extra></extra>",
         "legendgroup": "China",
         "marker": {
          "color": "#EF553B",
          "size": {
           "bdata": "AAAAAMgbPEEAAAAAcOA9QQAAAIBiAEFBAAAAAHXFRUEAAAAApg5IQQ==",
           "dtype": "f8"
          },
          "sizemode": "area",
          "sizeref": 7883.07,
          "symbol": "circle"
         },
         "mode": "markers",
         "name": "China",
         "orientation": "v",
         "showlegend": true,
         "type": "scatter",
         "x": {
          "bdata": "Urgehcu6yUDNzMzMLODLQBSuR+Fags5AcT0K1wOz0ECF61G4vnfQQA==",
          "dtype": "f8"
         },
         "xaxis": "x",
         "y": {
          "bdata": "AAAAAMgbPEEAAAAAcOA9QQAAAIBiAEFBAAAAAHXFRUEAAAAApg5IQQ==",
          "dtype": "f8"
         },
         "yaxis": "y"
        },
        {
         "hovertemplate": "<b>OLS trendline</b><br>E-Waste (kt) = 316.208 * GDP ($B) + -2.4644e+06<br>R<sup>2</sup>=0.863789<br><br>Country=China<br>GDP ($B)=%{x}<br>E-Waste (kt)=%{y} <b>(trend)</b><extra></extra>",
         "legendgroup": "China",
         "marker": {
          "color": "#EF553B",
          "symbol": "circle"
         },
         "mode": "lines",
         "name": "China",
         "showlegend": false,
         "type": "scatter",
         "x": {
          "bdata": "Urgehcu6yUDNzMzMLODLQBSuR+Fags5AhetRuL530EBxPQrXA7PQQA==",
          "dtype": "f8"
         },
         "xaxis": "x",
         "y": {
          "bdata": "pu83Mkb1OUFQBrCOckI/QW4w0S324UJBIKak1y3hRUGMLhYamXNGQQ==",
          "dtype": "f8"
         },
         "yaxis": "y"
        },
        {
         "customdata": {
          "bdata": "4QfiB+MH5AflBw==",
          "dtype": "i2",
          "shape": "5, 1"
         },
         "hovertemplate": "Country=Japan<br>GDP ($B)=%{x}<br>E-Waste (kt)=%{marker.size}<br>Year=%{customdata[0]}<extra></extra>",
         "legendgroup": "Japan",
         "marker": {
          "color": "#00cc96",
          "size": {
           "bdata": "AAAAADhhMUEAAAAAgE8yQQAAAADChjRBAAAAALHiPEEAAACAsytDQQ==",
           "dtype": "f8"
          },
          "sizemode": "area",
          "sizeref": 7883.07,
          "symbol": "circle"
         },
         "mode": "markers",
         "name": "Japan",
         "orientation": "v",
         "showlegend": true,
         "type": "scatter",
         "x": {
          "bdata": "XI/C9Sj2sECuR+F6VF6xQFyPwvXo7rFAexSuR+GKskCPwvUoHO+zQA==",
          "dtype": "f8"
         },
         "xaxis": "x",
         "y": {
          "bdata": "AAAAADhhMUEAAAAAgE8yQQAAAADChjRBAAAAALHiPEEAAACAsytDQQ==",
          "dtype": "f8"
         },
         "yaxis": "y"
        },
        {
         "hovertemplate": "<b>OLS trendline</b><br>E-Waste (kt) = 1921.19 * GDP ($B) + -7.30763e+06<br>R<sup>2</sup>=0.965386<br><br>Country=Japan<br>GDP ($B)=%{x}<br>E-Waste (kt)=%{y} <b>(trend)</b><extra></extra>",
         "legendgroup": "Japan",
         "marker": {
          "color": "#00cc96",
          "symbol": "circle"
         },
         "mode": "lines",
         "name": "Japan",
         "showlegend": false,
         "type": "scatter",
         "x": {
          "bdata": "XI/C9Sj2sECuR+F6VF6xQFyPwvXo7rFAexSuR+GKskCPwvUoHO+zQA==",
          "dtype": "f8"
         },
         "xaxis": "x",
         "y": {
          "bdata": "mCtEugaSL0F8WjsWxtYyQZyP2zzMEzdBPAw7yEymO0H6+cXD1wtDQQ==",
          "dtype": "f8"
         },
         "yaxis": "y"
        },
        {
         "customdata": {
          "bdata": "4QfiB+MH5AflBw==",
          "dtype": "i2",
          "shape": "5, 1"
         },
         "hovertemplate": "Country=Korea<br>GDP ($B)=%{x}<br>E-Waste (kt)=%{marker.size}<br>Year=%{customdata[0]}<extra></extra>",
         "legendgroup": "Korea",
         "marker": {
          "color": "#ab63fa",
          "size": {
           "bdata": "AAAAACeXMUEAAAAAOd8yQQAAAAB/5DNBAAAAABReNUEAAAAAMSk4QQ==",
           "dtype": "f8"
          },
          "sizemode": "area",
          "sizeref": 7883.07,
          "symbol": "circle"
         },
         "mode": "markers",
         "name": "Korea",
         "orientation": "v",
         "showlegend": true,
         "type": "scatter",
         "x": {
          "bdata": "CtejcD0nmEC4HoXrUcSZQD0K16NwjZtA16NwPQqrnUBmZmZmZn+cQA==",
          "dtype": "f8"
         },
         "xaxis": "x",
         "y": {
          "bdata": "AAAAACeXMUEAAAAAOd8yQQAAAAB/5DNBAAAAABReNUEAAAAAMSk4QQ==",
          "dtype": "f8"
         },
         "yaxis": "y"
        },
        {
         "hovertemplate": "<b>OLS trendline</b><br>E-Waste (kt) = 950.478 * GDP ($B) + -314788<br>R<sup>2</sup>=0.647422<br><br>Country=Korea<br>GDP ($B)=%{x}<br>E-Waste (kt)=%{y} <b>(trend)</b><extra></extra>",
         "legendgroup": "Korea",
         "marker": {
          "color": "#ab63fa",
          "symbol": "circle"
         },
         "mode": "lines",
         "name": "Korea",
         "showlegend": false,
         "type": "scatter",
         "x": {
          "bdata": "CtejcD0nmEC4HoXrUcSZQD0K16NwjZtAZmZmZmZ/nEDXo3A9CqudQA==",
          "dtype": "f8"
         },
         "xaxis": "x",
         "y": {
          "bdata": "aIn7oaadMUF+wDuJEh0zQSbX2jRfxTRBhsfupPWlNUGKF//6Fbw2QQ==",
          "dtype": "f8"
         },
         "yaxis": "y"
        },
        {
         "customdata": {
          "bdata": "4QfiB+MH5AflBw==",
          "dtype": "i2",
          "shape": "5, 1"
         },
         "hovertemplate": "Country=Indonesia<br>GDP ($B)=%{x}<br>E-Waste (kt)=%{marker.size}<br>Year=%{customdata[0]}<extra></extra>",
         "legendgroup": "Indonesia",
         "marker": {
          "color": "#FFA15A",
          "size": {
           "bdata": "AAAAALSnEkEAAAAAxEoUQQAAAABgTh5BAAAAAF5cJ0EAAAAAvoUqQQ==",
           "dtype": "f8"
          },
          "sizemode": "area",
          "sizeref": 7883.07,
          "symbol": "circle"
         },
         "mode": "markers",
         "name": "Indonesia",
         "orientation": "v",
         "showlegend": true,
         "type": "scatter",
         "x": {
          "bdata": "L90kBoGzjUCkcD0K1+mPQFyPwvUoPZFAcT0K16OnkkAAAAAAAPmRQA==",
          "dtype": "f8"
         },
         "xaxis": "x",
         "y": {
          "bdata": "AAAAALSnEkEAAAAAxEoUQQAAAABgTh5BAAAAAF5cJ0EAAAAAvoUqQQ==",
          "dtype": "f8"
         },
         "yaxis": "y"
        },
        {
         "hovertemplate": "<b>OLS trendline</b><br>E-Waste (kt) = 2332.64 * GDP ($B) + -1.97433e+06<br>R<sup>2</sup>=0.814290<br><br>Country=Indonesia<br>GDP ($B)=%{x}<br>E-Waste (kt)=%{y} <b>(trend)</b><extra></extra>",
         "legendgroup": "Indonesia",
         "marker": {
          "color": "#FFA15A",
          "symbol": "circle"
         },
         "mode": "lines",
         "name": "Indonesia",
         "showlegend": false,
         "type": "scatter",
         "x": {
          "bdata": "L90kBoGzjUCkcD0K1+mPQFyPwvUoPZFAAAAAAAD5kUBxPQrXo6eSQA==",
          "dtype": "f8"
         },
         "xaxis": "x",
         "y": {
          "bdata": "MJPsNnagDUH4H6l2beQYQeQBgGSoSSJBFPLZY3KhJUEwV5buGL0oQQ==",
          "dtype": "f8"
         },
         "yaxis": "y"
        },
        {
         "customdata": {
          "bdata": "4QfiB+MH5AflBw==",
          "dtype": "i2",
          "shape": "5, 1"
         },
         "hovertemplate": "Country=Switzerland<br>GDP ($B)=%{x}<br>E-Waste (kt)=%{marker.size}<br>Year=%{customdata[0]}<extra></extra>",
         "legendgroup": "Switzerland",
         "marker": {
          "color": "#19d3f3",
          "size": {
           "bdata": "AAAAAEAGGUEAAAAAwD4aQQAAAABAdxtBAAAAAASFGUEAAAAAwD4aQQ==",
           "dtype": "f8"
          },
          "sizemode": "area",
          "sizeref": 7883.07,
          "symbol": "circle"
         },
         "mode": "markers",
         "name": "Switzerland",
         "orientation": "v",
         "showlegend": true,
         "type": "scatter",
         "x": {
          "bdata": "8KfGSzcchkArhxbZzrmGQArXo3A9UodAI9v5fmoXiEBxPQrXo1aJQA==",
          "dtype": "f8"
         },
         "xaxis": "x",
         "y": {
          "bdata": "AAAAAEAGGUEAAAAAwD4aQQAAAABAdxtBAAAAAASFGUEAAAAAwD4aQQ==",
          "dtype": "f8"
         },
         "yaxis": "y"
        },
        {
         "hovertemplate": "<b>OLS trendline</b><br>E-Waste (kt) = 86.419 * GDP ($B) + 362587<br>R<sup>2</sup>=0.052692<br><br>Country=Switzerland<br>GDP ($B)=%{x}<br>E-Waste (kt)=%{y} <b>(trend)</b><extra></extra>",
         "legendgroup": "Switzerland",
         "marker": {
          "color": "#19d3f3",
          "symbol": "circle"
         },
         "mode": "lines",
         "name": "Switzerland",
         "showlegend": false,
         "type": "scatter",
         "x": {
          "bdata": "8KfGSzcchkArhxbZzrmGQArXo3A9UodAI9v5fmoXiEBxPQrXo1aJQA==",
          "dtype": "f8"
         },
         "xaxis": "x",
         "y": {
          "bdata": "ELBKRMzcGUGHfLK8ZfcZQaluFz8gERpBBMIPH2gyGkGootugSWgaQQ==",
          "dtype": "f8"
         },
         "yaxis": "y"
        },
        {
         "customdata": {
          "bdata": "4QfiB+MH5AflBw==",
          "dtype": "i2",
          "shape": "5, 1"
         },
         "hovertemplate": "Country=Sweden<br>GDP ($B)=%{x}<br>E-Waste (kt)=%{marker.size}<br>Year=%{customdata[0]}<extra></extra>",
         "legendgroup": "Sweden",
         "marker": {
          "color": "#FF6692",
          "size": {
           "bdata": "AAAAAJDrAEEAAAAAQBX+QAAAAADAwQlBAAAAAMA+CkEAAAAAANULQQ==",
           "dtype": "f8"
          },
          "sizemode": "area",
          "sizeref": 7883.07,
          "symbol": "circle"
         },
         "mode": "markers",
         "name": "Sweden",
         "orientation": "v",
         "showlegend": true,
         "type": "scatter",
         "x": {
          "bdata": "DAIrhxY9gEDb+X5qvOuAQKJFtvP9kIFAbef7qfFNgkBSuB6F63KDQA==",
          "dtype": "f8"
         },
         "xaxis": "x",
         "y": {
          "bdata": "AAAAAJDrAEEAAAAAQBX+QAAAAADAwQlBAAAAAMA+CkEAAAAAANULQQ==",
          "dtype": "f8"
         },
         "yaxis": "y"
        },
        {
         "hovertemplate": "<b>OLS trendline</b><br>E-Waste (kt) = 1039.66 * GDP ($B) + -405560<br>R<sup>2</sup>=0.730008<br><br>Country=Sweden<br>GDP ($B)=%{x}<br>E-Waste (kt)=%{y} <b>(trend)</b><extra></extra>",
         "legendgroup": "Sweden",
         "marker": {
          "color": "#FF6692",
          "symbol": "circle"
         },
         "mode": "lines",
         "name": "Sweden",
         "showlegend": false,
         "type": "scatter",
         "x": {
          "bdata": "DAIrhxY9gEDb+X5qvOuAQKJFtvP9kIFAbef7qfFNgkBSuB6F63KDQA==",
          "dtype": "f8"
         },
         "xaxis": "x",
         "y": {
          "bdata": "lBTmMOxwAEFUPfwRMzYDQWj8y3FV1QVBBF3xpbPUCEGUVGClh3oNQQ==",
          "dtype": "f8"
         },
         "yaxis": "y"
        },
        {
         "customdata": {
          "bdata": "4QfiB+MH5AflBw==",
          "dtype": "i2",
          "shape": "5, 1"
         },
         "hovertemplate": "Country=Norway<br>GDP ($B)=%{x}<br>E-Waste (kt)=%{marker.size}<br>Year=%{customdata[0]}<extra></extra>",
         "legendgroup": "Norway",
         "marker": {
          "color": "#B6E880",
          "size": {
           "bdata": "AAAAAICHAUEAAAAAQLMBQQAAAAAg4gFBAAAAAMAKAkEAAAAAwCMCQQ==",
           "dtype": "f8"
          },
          "sizemode": "area",
          "sizeref": 7883.07,
          "symbol": "circle"
         },
         "mode": "markers",
         "name": "Norway",
         "orientation": "v",
         "showlegend": true,
         "type": "scatter",
         "x": {
          "bdata": "16NwPQrzeUBkO99PjUd7QJMYBFYOV3xApHA9CtdvfUAnMQisHNh7QA==",
          "dtype": "f8"
         },
         "xaxis": "x",
         "y": {
          "bdata": "AAAAAICHAUEAAAAAQLMBQQAAAAAg4gFBAAAAAMAKAkEAAAAAwCMCQQ==",
          "dtype": "f8"
         },
         "yaxis": "y"
        },
        {
         "hovertemplate": "<b>OLS trendline</b><br>E-Waste (kt) = 78.2003 * GDP ($B) + 111554<br>R<sup>2</sup>=0.630007<br><br>Country=Norway<br>GDP ($B)=%{x}<br>E-Waste (kt)=%{y} <b>(trend)</b><extra></extra>",
         "legendgroup": "Norway",
         "marker": {
          "color": "#B6E880",
          "symbol": "circle"
         },
         "mode": "lines",
         "name": "Norway",
         "showlegend": false,
         "type": "scatter",
         "x": {
          "bdata": "16NwPQrzeUBkO99PjUd7QCcxCKwc2HtAkxgEVg5XfECkcD0K1299QA==",
          "dtype": "f8"
         },
         "xaxis": "x",
         "y": {
          "bdata": "KV2PNLCUAUEUovJFssgBQbPTBJfG3gFBDcFUHiryAUHtayTQDB0CQQ==",
          "dtype": "f8"
         },
         "yaxis": "y"
        },
        {
         "customdata": {
          "bdata": "4QfiB+MH5AflBw==",
          "dtype": "i2",
          "shape": "5, 1"
         },
         "hovertemplate": "Country=Germany<br>GDP ($B)=%{x}<br>E-Waste (kt)=%{marker.size}<br>Year=%{customdata[0]}<extra></extra>",
         "legendgroup": "Germany",
         "marker": {
          "color": "#FF97FF",
          "size": {
           "bdata": "AAAAAGhZKkEAAAAACAkqQQAAAAC2uShBAAAAAMIUJ0EAAAAAeNIkQQ==",
           "dtype": "f8"
          },
          "sizemode": "area",
          "sizeref": 7883.07,
          "symbol": "circle"
         },
         "mode": "markers",
         "name": "Germany",
         "orientation": "v",
         "showlegend": true,
         "type": "scatter",
         "x": {
          "bdata": "uB6F69EWrEAK16NwvRKtQGZmZmZmDa5AexSuR+FJr0BSuB6FK4awQA==",
          "dtype": "f8"
         },
         "xaxis": "x",
         "y": {
          "bdata": "AAAAAGhZKkEAAAAACAkqQQAAAAC2uShBAAAAAMIUJ0EAAAAAeNIkQQ==",
          "dtype": "f8"
         },
         "yaxis": "y"
        },
        {
         "hovertemplate": "<b>OLS trendline</b><br>E-Waste (kt) = -299.379 * GDP ($B) + 1.95458e+06<br>R<sup>2</sup>=0.979279<br><br>Country=Germany<br>GDP ($B)=%{x}<br>E-Waste (kt)=%{y} <b>(trend)</b><extra></extra>",
         "legendgroup": "Germany",
         "marker": {
          "color": "#FF97FF",
          "symbol": "circle"
         },
         "mode": "lines",
         "name": "Germany",
         "showlegend": false,
         "type": "scatter",
         "x": {
          "bdata": "uB6F69EWrEAK16NwvRKtQGZmZmZmDa5AexSuR+FJr0BSuB6FK4awQA==",
          "dtype": "f8"
         },
         "xaxis": "x",
         "y": {
          "bdata": "mps+ptfMKkFs9gUcPKYpQRgzeMkZgShBdk3nV/4OJ0GE7VscNAAlQQ==",
          "dtype": "f8"
         },
         "yaxis": "y"
        },
        {
         "customdata": {
          "bdata": "4QfiB+MH5AflBw==",
          "dtype": "i2",
          "shape": "5, 1"
         },
         "hovertemplate": "Country=Canada<br>GDP ($B)=%{x}<br>E-Waste (kt)=%{marker.size}<br>Year=%{customdata[0]}<extra></extra>",
         "legendgroup": "Canada",
         "marker": {
          "color": "#FECB52",
          "size": {
           "bdata": "AAAAANgTI0EAAAAA5O0kQQAAAABomSZBAAAAAAjCJkEAAAAAorooQQ==",
           "dtype": "f8"
          },
          "sizemode": "area",
          "sizeref": 7883.07,
          "symbol": "circle"
         },
         "mode": "markers",
         "name": "Canada",
         "orientation": "v",
         "showlegend": true,
         "type": "scatter",
         "x": {
          "bdata": "FK5H4XpJmkAzMzMzM7ebQArXo3A9EJ1AmpmZmZmYnkBSuB6F63+fQA==",
          "dtype": "f8"
         },
         "xaxis": "x",
         "y": {
          "bdata": "AAAAANgTI0EAAAAA5O0kQQAAAABomSZBAAAAAAjCJkEAAAAAorooQQ==",
          "dtype": "f8"
         },
         "yaxis": "y"
        },
        {
         "hovertemplate": "<b>OLS trendline</b><br>E-Waste (kt) = 499.513 * GDP ($B) + -206625<br>R<sup>2</sup>=0.937997<br><br>Country=Canada<br>GDP ($B)=%{x}<br>E-Waste (kt)=%{y} <b>(trend)</b><extra></extra>",
         "legendgroup": "Canada",
         "marker": {
          "color": "#FECB52",
          "symbol": "circle"
         },
         "mode": "lines",
         "name": "Canada",
         "showlegend": false,
         "type": "scatter",
         "x": {
          "bdata": "FK5H4XpJmkAzMzMzM7ebQArXo3A9EJ1AmpmZmZmYnkBSuB6F63+fQA==",
          "dtype": "f8"
         },
         "xaxis": "x",
         "y": {
          "bdata": "ZeBACxhXI0FqwQzv5LskQR3vyNyEDCZBtXzhQk+LJ0F68gfm/GwoQQ==",
          "dtype": "f8"
         },
         "yaxis": "y"
        }
       ],
       "layout": {
        "legend": {
         "itemsizing": "constant",
         "title": {
          "text": "Country"
         },
         "tracegroupgap": 0
        },
        "showlegend": false,
        "template": {
         "data": {
          "bar": [
           {
            "error_x": {
             "color": "#2a3f5f"
            },
            "error_y": {
             "color": "#2a3f5f"
            },
            "marker": {
             "line": {
              "color": "#E5ECF6",
              "width": 0.5
             },
             "pattern": {
              "fillmode": "overlay",
              "size": 10,
              "solidity": 0.2
             }
            },
            "type": "bar"
           }
          ],
          "barpolar": [
           {
            "marker": {
             "line": {
              "color": "#E5ECF6",
              "width": 0.5
             },
             "pattern": {
              "fillmode": "overlay",
              "size": 10,
              "solidity": 0.2
             }
            },
            "type": "barpolar"
           }
          ],
          "carpet": [
           {
            "aaxis": {
             "endlinecolor": "#2a3f5f",
             "gridcolor": "white",
             "linecolor": "white",
             "minorgridcolor": "white",
             "startlinecolor": "#2a3f5f"
            },
            "baxis": {
             "endlinecolor": "#2a3f5f",
             "gridcolor": "white",
             "linecolor": "white",
             "minorgridcolor": "white",
             "startlinecolor": "#2a3f5f"
            },
            "type": "carpet"
           }
          ],
          "choropleth": [
           {
            "colorbar": {
             "outlinewidth": 0,
             "ticks": ""
            },
            "type": "choropleth"
           }
          ],
          "contour": [
           {
            "colorbar": {
             "outlinewidth": 0,
             "ticks": ""
            },
            "colorscale": [
             [
              0,
              "#0d0887"
             ],
             [
              0.1111111111111111,
              "#46039f"
             ],
             [
              0.2222222222222222,
              "#7201a8"
             ],
             [
              0.3333333333333333,
              "#9c179e"
             ],
             [
              0.4444444444444444,
              "#bd3786"
             ],
             [
              0.5555555555555556,
              "#d8576b"
             ],
             [
              0.6666666666666666,
              "#ed7953"
             ],
             [
              0.7777777777777778,
              "#fb9f3a"
             ],
             [
              0.8888888888888888,
              "#fdca26"
             ],
             [
              1,
              "#f0f921"
             ]
            ],
            "type": "contour"
           }
          ],
          "contourcarpet": [
           {
            "colorbar": {
             "outlinewidth": 0,
             "ticks": ""
            },
            "type": "contourcarpet"
           }
          ],
          "heatmap": [
           {
            "colorbar": {
             "outlinewidth": 0,
             "ticks": ""
            },
            "colorscale": [
             [
              0,
              "#0d0887"
             ],
             [
              0.1111111111111111,
              "#46039f"
             ],
             [
              0.2222222222222222,
              "#7201a8"
             ],
             [
              0.3333333333333333,
              "#9c179e"
             ],
             [
              0.4444444444444444,
              "#bd3786"
             ],
             [
              0.5555555555555556,
              "#d8576b"
             ],
             [
              0.6666666666666666,
              "#ed7953"
             ],
             [
              0.7777777777777778,
              "#fb9f3a"
             ],
             [
              0.8888888888888888,
              "#fdca26"
             ],
             [
              1,
              "#f0f921"
             ]
            ],
            "type": "heatmap"
           }
          ],
          "histogram": [
           {
            "marker": {
             "pattern": {
              "fillmode": "overlay",
              "size": 10,
              "solidity": 0.2
             }
            },
            "type": "histogram"
           }
          ],
          "histogram2d": [
           {
            "colorbar": {
             "outlinewidth": 0,
             "ticks": ""
            },
            "colorscale": [
             [
              0,
              "#0d0887"
             ],
             [
              0.1111111111111111,
              "#46039f"
             ],
             [
              0.2222222222222222,
              "#7201a8"
             ],
             [
              0.3333333333333333,
              "#9c179e"
             ],
             [
              0.4444444444444444,
              "#bd3786"
             ],
             [
              0.5555555555555556,
              "#d8576b"
             ],
             [
              0.6666666666666666,
              "#ed7953"
             ],
             [
              0.7777777777777778,
              "#fb9f3a"
             ],
             [
              0.8888888888888888,
              "#fdca26"
             ],
             [
              1,
              "#f0f921"
             ]
            ],
            "type": "histogram2d"
           }
          ],
          "histogram2dcontour": [
           {
            "colorbar": {
             "outlinewidth": 0,
             "ticks": ""
            },
            "colorscale": [
             [
              0,
              "#0d0887"
             ],
             [
              0.1111111111111111,
              "#46039f"
             ],
             [
              0.2222222222222222,
              "#7201a8"
             ],
             [
              0.3333333333333333,
              "#9c179e"
             ],
             [
              0.4444444444444444,
              "#bd3786"
             ],
             [
              0.5555555555555556,
              "#d8576b"
             ],
             [
              0.6666666666666666,
              "#ed7953"
             ],
             [
              0.7777777777777778,
              "#fb9f3a"
             ],
             [
              0.8888888888888888,
              "#fdca26"
             ],
             [
              1,
              "#f0f921"
             ]
            ],
            "type": "histogram2dcontour"
           }
          ],
          "mesh3d": [
           {
            "colorbar": {
             "outlinewidth": 0,
             "ticks": ""
            },
            "type": "mesh3d"
           }
          ],
          "parcoords": [
           {
            "line": {
             "colorbar": {
              "outlinewidth": 0,
              "ticks": ""
             }
            },
            "type": "parcoords"
           }
          ],
          "pie": [
           {
            "automargin": true,
            "type": "pie"
           }
          ],
          "scatter": [
           {
            "fillpattern": {
             "fillmode": "overlay",
             "size": 10,
             "solidity": 0.2
            },
            "type": "scatter"
           }
          ],
          "scatter3d": [
           {
            "line": {
             "colorbar": {
              "outlinewidth": 0,
              "ticks": ""
             }
            },
            "marker": {
             "colorbar": {
              "outlinewidth": 0,
              "ticks": ""
             }
            },
            "type": "scatter3d"
           }
          ],
          "scattercarpet": [
           {
            "marker": {
             "colorbar": {
              "outlinewidth": 0,
              "ticks": ""
             }
            },
            "type": "scattercarpet"
           }
          ],
          "scattergeo": [
           {
            "marker": {
             "colorbar": {
              "outlinewidth": 0,
              "ticks": ""
             }
            },
            "type": "scattergeo"
           }
          ],
          "scattergl": [
           {
            "marker": {
             "colorbar": {
              "outlinewidth": 0,
              "ticks": ""
             }
            },
            "type": "scattergl"
           }
          ],
          "scattermap": [
           {
            "marker": {
             "colorbar": {
              "outlinewidth": 0,
              "ticks": ""
             }
            },
            "type": "scattermap"
           }
          ],
          "scattermapbox": [
           {
            "marker": {
             "colorbar": {
              "outlinewidth": 0,
              "ticks": ""
             }
            },
            "type": "scattermapbox"
           }
          ],
          "scatterpolar": [
           {
            "marker": {
             "colorbar": {
              "outlinewidth": 0,
              "ticks": ""
             }
            },
            "type": "scatterpolar"
           }
          ],
          "scatterpolargl": [
           {
            "marker": {
             "colorbar": {
              "outlinewidth": 0,
              "ticks": ""
             }
            },
            "type": "scatterpolargl"
           }
          ],
          "scatterternary": [
           {
            "marker": {
             "colorbar": {
              "outlinewidth": 0,
              "ticks": ""
             }
            },
            "type": "scatterternary"
           }
          ],
          "surface": [
           {
            "colorbar": {
             "outlinewidth": 0,
             "ticks": ""
            },
            "colorscale": [
             [
              0,
              "#0d0887"
             ],
             [
              0.1111111111111111,
              "#46039f"
             ],
             [
              0.2222222222222222,
              "#7201a8"
             ],
             [
              0.3333333333333333,
              "#9c179e"
             ],
             [
              0.4444444444444444,
              "#bd3786"
             ],
             [
              0.5555555555555556,
              "#d8576b"
             ],
             [
              0.6666666666666666,
              "#ed7953"
             ],
             [
              0.7777777777777778,
              "#fb9f3a"
             ],
             [
              0.8888888888888888,
              "#fdca26"
             ],
             [
              1,
              "#f0f921"
             ]
            ],
            "type": "surface"
           }
          ],
          "table": [
           {
            "cells": {
             "fill": {
              "color": "#EBF0F8"
             },
             "line": {
              "color": "white"
             }
            },
            "header": {
             "fill": {
              "color": "#C8D4E3"
             },
             "line": {
              "color": "white"
             }
            },
            "type": "table"
           }
          ]
         },
         "layout": {
          "annotationdefaults": {
           "arrowcolor": "#2a3f5f",
           "arrowhead": 0,
           "arrowwidth": 1
          },
          "autotypenumbers": "strict",
          "coloraxis": {
           "colorbar": {
            "outlinewidth": 0,
            "ticks": ""
           }
          },
          "colorscale": {
           "diverging": [
            [
             0,
             "#8e0152"
            ],
            [
             0.1,
             "#c51b7d"
            ],
            [
             0.2,
             "#de77ae"
            ],
            [
             0.3,
             "#f1b6da"
            ],
            [
             0.4,
             "#fde0ef"
            ],
            [
             0.5,
             "#f7f7f7"
            ],
            [
             0.6,
             "#e6f5d0"
            ],
            [
             0.7,
             "#b8e186"
            ],
            [
             0.8,
             "#7fbc41"
            ],
            [
             0.9,
             "#4d9221"
            ],
            [
             1,
             "#276419"
            ]
           ],
           "sequential": [
            [
             0,
             "#0d0887"
            ],
            [
             0.1111111111111111,
             "#46039f"
            ],
            [
             0.2222222222222222,
             "#7201a8"
            ],
            [
             0.3333333333333333,
             "#9c179e"
            ],
            [
             0.4444444444444444,
             "#bd3786"
            ],
            [
             0.5555555555555556,
             "#d8576b"
            ],
            [
             0.6666666666666666,
             "#ed7953"
            ],
            [
             0.7777777777777778,
             "#fb9f3a"
            ],
            [
             0.8888888888888888,
             "#fdca26"
            ],
            [
             1,
             "#f0f921"
            ]
           ],
           "sequentialminus": [
            [
             0,
             "#0d0887"
            ],
            [
             0.1111111111111111,
             "#46039f"
            ],
            [
             0.2222222222222222,
             "#7201a8"
            ],
            [
             0.3333333333333333,
             "#9c179e"
            ],
            [
             0.4444444444444444,
             "#bd3786"
            ],
            [
             0.5555555555555556,
             "#d8576b"
            ],
            [
             0.6666666666666666,
             "#ed7953"
            ],
            [
             0.7777777777777778,
             "#fb9f3a"
            ],
            [
             0.8888888888888888,
             "#fdca26"
            ],
            [
             1,
             "#f0f921"
            ]
           ]
          },
          "colorway": [
           "#636efa",
           "#EF553B",
           "#00cc96",
           "#ab63fa",
           "#FFA15A",
           "#19d3f3",
           "#FF6692",
           "#B6E880",
           "#FF97FF",
           "#FECB52"
          ],
          "font": {
           "color": "#2a3f5f"
          },
          "geo": {
           "bgcolor": "white",
           "lakecolor": "white",
           "landcolor": "#E5ECF6",
           "showlakes": true,
           "showland": true,
           "subunitcolor": "white"
          },
          "hoverlabel": {
           "align": "left"
          },
          "hovermode": "closest",
          "mapbox": {
           "style": "light"
          },
          "paper_bgcolor": "white",
          "plot_bgcolor": "#E5ECF6",
          "polar": {
           "angularaxis": {
            "gridcolor": "white",
            "linecolor": "white",
            "ticks": ""
           },
           "bgcolor": "#E5ECF6",
           "radialaxis": {
            "gridcolor": "white",
            "linecolor": "white",
            "ticks": ""
           }
          },
          "scene": {
           "xaxis": {
            "backgroundcolor": "#E5ECF6",
            "gridcolor": "white",
            "gridwidth": 2,
            "linecolor": "white",
            "showbackground": true,
            "ticks": "",
            "zerolinecolor": "white"
           },
           "yaxis": {
            "backgroundcolor": "#E5ECF6",
            "gridcolor": "white",
            "gridwidth": 2,
            "linecolor": "white",
            "showbackground": true,
            "ticks": "",
            "zerolinecolor": "white"
           },
           "zaxis": {
            "backgroundcolor": "#E5ECF6",
            "gridcolor": "white",
            "gridwidth": 2,
            "linecolor": "white",
            "showbackground": true,
            "ticks": "",
            "zerolinecolor": "white"
           }
          },
          "shapedefaults": {
           "line": {
            "color": "#2a3f5f"
           }
          },
          "ternary": {
           "aaxis": {
            "gridcolor": "white",
            "linecolor": "white",
            "ticks": ""
           },
           "baxis": {
            "gridcolor": "white",
            "linecolor": "white",
            "ticks": ""
           },
           "bgcolor": "#E5ECF6",
           "caxis": {
            "gridcolor": "white",
            "linecolor": "white",
            "ticks": ""
           }
          },
          "title": {
           "x": 0.05
          },
          "xaxis": {
           "automargin": true,
           "gridcolor": "white",
           "linecolor": "white",
           "ticks": "",
           "title": {
            "standoff": 15
           },
           "zerolinecolor": "white",
           "zerolinewidth": 2
          },
          "yaxis": {
           "automargin": true,
           "gridcolor": "white",
           "linecolor": "white",
           "ticks": "",
           "title": {
            "standoff": 15
           },
           "zerolinecolor": "white",
           "zerolinewidth": 2
          }
         }
        },
        "title": {
         "text": "GDP vs. E-Waste by Country"
        },
        "xaxis": {
         "anchor": "y",
         "domain": [
          0,
          1
         ],
         "title": {
          "text": "GDP ($B)"
         }
        },
        "yaxis": {
         "anchor": "x",
         "domain": [
          0,
          1
         ],
         "title": {
          "text": "E-Waste (kt)"
         }
        }
       }
      }
     },
     "metadata": {},
     "output_type": "display_data"
    }
   ],
   "source": [
    "fig = px.scatter(merged_df, x='GDP ($B)', y='E-Waste (kt)', \n",
    "                 color='Country', size='E-Waste (kt)',\n",
    "                 hover_data=['Year'], trendline=\"ols\",\n",
    "                 title=\"GDP vs. E-Waste by Country\")\n",
    "fig.update_layout(showlegend=False)\n",
    "fig.show()"
   ]
  },
  {
   "cell_type": "markdown",
   "metadata": {},
   "source": [
    "GDP vs. E-Waste by Country\n",
    "\n",
    "What it shows: This graph likely plots GDP (in billions of dollars) against the percentage of e-waste generated by different countries.\n",
    "\n",
    "Interpretation: Countries with higher GDP may generate more e-waste, but the relationship might not be linear. Some wealthy countries could have better e-waste management policies, leading to lower percentages despite high GDP."
   ]
  },
  {
   "cell_type": "markdown",
   "metadata": {},
   "source": [
    "### **B. Growth Comparison Radar Chart**"
   ]
  },
  {
   "cell_type": "code",
   "execution_count": 14,
   "metadata": {},
   "outputs": [
    {
     "data": {
      "application/vnd.plotly.v1+json": {
       "config": {
        "plotlyServerURL": "https://plot.ly"
       },
       "data": [
        {
         "fill": "toself",
         "hovertemplate": "E-Waste (kt)=%{r}<br>Country=%{theta}<extra></extra>",
         "legendgroup": "",
         "line": {
          "color": "#636efa",
          "dash": "solid"
         },
         "marker": {
          "symbol": "circle"
         },
         "mode": "lines",
         "name": "",
         "r": {
          "bdata": "ImWHYL2fPUBTRDmaIMtRQA4XF5/v+TTA9aTDGaGAX0BCRrguDAtnQFfVCjEDJ15AB/SNDR6tQkAIbQFS69oLQOS/ogRhH1BAiPMxOB+DE0AiZYdgvZ89QA==",
          "dtype": "f8"
         },
         "showlegend": false,
         "subplot": "polar",
         "theta": [
          "Canada",
          "China",
          "Germany",
          "India",
          "Indonesia",
          "Japan",
          "Korea",
          "Norway",
          "Sweden",
          "Switzerland",
          "Canada"
         ],
         "type": "scatterpolar"
        }
       ],
       "layout": {
        "legend": {
         "tracegroupgap": 0
        },
        "polar": {
         "angularaxis": {
          "direction": "clockwise",
          "rotation": 90
         },
         "domain": {
          "x": [
           0,
           1
          ],
          "y": [
           0,
           1
          ]
         }
        },
        "template": {
         "data": {
          "bar": [
           {
            "error_x": {
             "color": "#2a3f5f"
            },
            "error_y": {
             "color": "#2a3f5f"
            },
            "marker": {
             "line": {
              "color": "#E5ECF6",
              "width": 0.5
             },
             "pattern": {
              "fillmode": "overlay",
              "size": 10,
              "solidity": 0.2
             }
            },
            "type": "bar"
           }
          ],
          "barpolar": [
           {
            "marker": {
             "line": {
              "color": "#E5ECF6",
              "width": 0.5
             },
             "pattern": {
              "fillmode": "overlay",
              "size": 10,
              "solidity": 0.2
             }
            },
            "type": "barpolar"
           }
          ],
          "carpet": [
           {
            "aaxis": {
             "endlinecolor": "#2a3f5f",
             "gridcolor": "white",
             "linecolor": "white",
             "minorgridcolor": "white",
             "startlinecolor": "#2a3f5f"
            },
            "baxis": {
             "endlinecolor": "#2a3f5f",
             "gridcolor": "white",
             "linecolor": "white",
             "minorgridcolor": "white",
             "startlinecolor": "#2a3f5f"
            },
            "type": "carpet"
           }
          ],
          "choropleth": [
           {
            "colorbar": {
             "outlinewidth": 0,
             "ticks": ""
            },
            "type": "choropleth"
           }
          ],
          "contour": [
           {
            "colorbar": {
             "outlinewidth": 0,
             "ticks": ""
            },
            "colorscale": [
             [
              0,
              "#0d0887"
             ],
             [
              0.1111111111111111,
              "#46039f"
             ],
             [
              0.2222222222222222,
              "#7201a8"
             ],
             [
              0.3333333333333333,
              "#9c179e"
             ],
             [
              0.4444444444444444,
              "#bd3786"
             ],
             [
              0.5555555555555556,
              "#d8576b"
             ],
             [
              0.6666666666666666,
              "#ed7953"
             ],
             [
              0.7777777777777778,
              "#fb9f3a"
             ],
             [
              0.8888888888888888,
              "#fdca26"
             ],
             [
              1,
              "#f0f921"
             ]
            ],
            "type": "contour"
           }
          ],
          "contourcarpet": [
           {
            "colorbar": {
             "outlinewidth": 0,
             "ticks": ""
            },
            "type": "contourcarpet"
           }
          ],
          "heatmap": [
           {
            "colorbar": {
             "outlinewidth": 0,
             "ticks": ""
            },
            "colorscale": [
             [
              0,
              "#0d0887"
             ],
             [
              0.1111111111111111,
              "#46039f"
             ],
             [
              0.2222222222222222,
              "#7201a8"
             ],
             [
              0.3333333333333333,
              "#9c179e"
             ],
             [
              0.4444444444444444,
              "#bd3786"
             ],
             [
              0.5555555555555556,
              "#d8576b"
             ],
             [
              0.6666666666666666,
              "#ed7953"
             ],
             [
              0.7777777777777778,
              "#fb9f3a"
             ],
             [
              0.8888888888888888,
              "#fdca26"
             ],
             [
              1,
              "#f0f921"
             ]
            ],
            "type": "heatmap"
           }
          ],
          "histogram": [
           {
            "marker": {
             "pattern": {
              "fillmode": "overlay",
              "size": 10,
              "solidity": 0.2
             }
            },
            "type": "histogram"
           }
          ],
          "histogram2d": [
           {
            "colorbar": {
             "outlinewidth": 0,
             "ticks": ""
            },
            "colorscale": [
             [
              0,
              "#0d0887"
             ],
             [
              0.1111111111111111,
              "#46039f"
             ],
             [
              0.2222222222222222,
              "#7201a8"
             ],
             [
              0.3333333333333333,
              "#9c179e"
             ],
             [
              0.4444444444444444,
              "#bd3786"
             ],
             [
              0.5555555555555556,
              "#d8576b"
             ],
             [
              0.6666666666666666,
              "#ed7953"
             ],
             [
              0.7777777777777778,
              "#fb9f3a"
             ],
             [
              0.8888888888888888,
              "#fdca26"
             ],
             [
              1,
              "#f0f921"
             ]
            ],
            "type": "histogram2d"
           }
          ],
          "histogram2dcontour": [
           {
            "colorbar": {
             "outlinewidth": 0,
             "ticks": ""
            },
            "colorscale": [
             [
              0,
              "#0d0887"
             ],
             [
              0.1111111111111111,
              "#46039f"
             ],
             [
              0.2222222222222222,
              "#7201a8"
             ],
             [
              0.3333333333333333,
              "#9c179e"
             ],
             [
              0.4444444444444444,
              "#bd3786"
             ],
             [
              0.5555555555555556,
              "#d8576b"
             ],
             [
              0.6666666666666666,
              "#ed7953"
             ],
             [
              0.7777777777777778,
              "#fb9f3a"
             ],
             [
              0.8888888888888888,
              "#fdca26"
             ],
             [
              1,
              "#f0f921"
             ]
            ],
            "type": "histogram2dcontour"
           }
          ],
          "mesh3d": [
           {
            "colorbar": {
             "outlinewidth": 0,
             "ticks": ""
            },
            "type": "mesh3d"
           }
          ],
          "parcoords": [
           {
            "line": {
             "colorbar": {
              "outlinewidth": 0,
              "ticks": ""
             }
            },
            "type": "parcoords"
           }
          ],
          "pie": [
           {
            "automargin": true,
            "type": "pie"
           }
          ],
          "scatter": [
           {
            "fillpattern": {
             "fillmode": "overlay",
             "size": 10,
             "solidity": 0.2
            },
            "type": "scatter"
           }
          ],
          "scatter3d": [
           {
            "line": {
             "colorbar": {
              "outlinewidth": 0,
              "ticks": ""
             }
            },
            "marker": {
             "colorbar": {
              "outlinewidth": 0,
              "ticks": ""
             }
            },
            "type": "scatter3d"
           }
          ],
          "scattercarpet": [
           {
            "marker": {
             "colorbar": {
              "outlinewidth": 0,
              "ticks": ""
             }
            },
            "type": "scattercarpet"
           }
          ],
          "scattergeo": [
           {
            "marker": {
             "colorbar": {
              "outlinewidth": 0,
              "ticks": ""
             }
            },
            "type": "scattergeo"
           }
          ],
          "scattergl": [
           {
            "marker": {
             "colorbar": {
              "outlinewidth": 0,
              "ticks": ""
             }
            },
            "type": "scattergl"
           }
          ],
          "scattermap": [
           {
            "marker": {
             "colorbar": {
              "outlinewidth": 0,
              "ticks": ""
             }
            },
            "type": "scattermap"
           }
          ],
          "scattermapbox": [
           {
            "marker": {
             "colorbar": {
              "outlinewidth": 0,
              "ticks": ""
             }
            },
            "type": "scattermapbox"
           }
          ],
          "scatterpolar": [
           {
            "marker": {
             "colorbar": {
              "outlinewidth": 0,
              "ticks": ""
             }
            },
            "type": "scatterpolar"
           }
          ],
          "scatterpolargl": [
           {
            "marker": {
             "colorbar": {
              "outlinewidth": 0,
              "ticks": ""
             }
            },
            "type": "scatterpolargl"
           }
          ],
          "scatterternary": [
           {
            "marker": {
             "colorbar": {
              "outlinewidth": 0,
              "ticks": ""
             }
            },
            "type": "scatterternary"
           }
          ],
          "surface": [
           {
            "colorbar": {
             "outlinewidth": 0,
             "ticks": ""
            },
            "colorscale": [
             [
              0,
              "#0d0887"
             ],
             [
              0.1111111111111111,
              "#46039f"
             ],
             [
              0.2222222222222222,
              "#7201a8"
             ],
             [
              0.3333333333333333,
              "#9c179e"
             ],
             [
              0.4444444444444444,
              "#bd3786"
             ],
             [
              0.5555555555555556,
              "#d8576b"
             ],
             [
              0.6666666666666666,
              "#ed7953"
             ],
             [
              0.7777777777777778,
              "#fb9f3a"
             ],
             [
              0.8888888888888888,
              "#fdca26"
             ],
             [
              1,
              "#f0f921"
             ]
            ],
            "type": "surface"
           }
          ],
          "table": [
           {
            "cells": {
             "fill": {
              "color": "#EBF0F8"
             },
             "line": {
              "color": "white"
             }
            },
            "header": {
             "fill": {
              "color": "#C8D4E3"
             },
             "line": {
              "color": "white"
             }
            },
            "type": "table"
           }
          ]
         },
         "layout": {
          "annotationdefaults": {
           "arrowcolor": "#2a3f5f",
           "arrowhead": 0,
           "arrowwidth": 1
          },
          "autotypenumbers": "strict",
          "coloraxis": {
           "colorbar": {
            "outlinewidth": 0,
            "ticks": ""
           }
          },
          "colorscale": {
           "diverging": [
            [
             0,
             "#8e0152"
            ],
            [
             0.1,
             "#c51b7d"
            ],
            [
             0.2,
             "#de77ae"
            ],
            [
             0.3,
             "#f1b6da"
            ],
            [
             0.4,
             "#fde0ef"
            ],
            [
             0.5,
             "#f7f7f7"
            ],
            [
             0.6,
             "#e6f5d0"
            ],
            [
             0.7,
             "#b8e186"
            ],
            [
             0.8,
             "#7fbc41"
            ],
            [
             0.9,
             "#4d9221"
            ],
            [
             1,
             "#276419"
            ]
           ],
           "sequential": [
            [
             0,
             "#0d0887"
            ],
            [
             0.1111111111111111,
             "#46039f"
            ],
            [
             0.2222222222222222,
             "#7201a8"
            ],
            [
             0.3333333333333333,
             "#9c179e"
            ],
            [
             0.4444444444444444,
             "#bd3786"
            ],
            [
             0.5555555555555556,
             "#d8576b"
            ],
            [
             0.6666666666666666,
             "#ed7953"
            ],
            [
             0.7777777777777778,
             "#fb9f3a"
            ],
            [
             0.8888888888888888,
             "#fdca26"
            ],
            [
             1,
             "#f0f921"
            ]
           ],
           "sequentialminus": [
            [
             0,
             "#0d0887"
            ],
            [
             0.1111111111111111,
             "#46039f"
            ],
            [
             0.2222222222222222,
             "#7201a8"
            ],
            [
             0.3333333333333333,
             "#9c179e"
            ],
            [
             0.4444444444444444,
             "#bd3786"
            ],
            [
             0.5555555555555556,
             "#d8576b"
            ],
            [
             0.6666666666666666,
             "#ed7953"
            ],
            [
             0.7777777777777778,
             "#fb9f3a"
            ],
            [
             0.8888888888888888,
             "#fdca26"
            ],
            [
             1,
             "#f0f921"
            ]
           ]
          },
          "colorway": [
           "#636efa",
           "#EF553B",
           "#00cc96",
           "#ab63fa",
           "#FFA15A",
           "#19d3f3",
           "#FF6692",
           "#B6E880",
           "#FF97FF",
           "#FECB52"
          ],
          "font": {
           "color": "#2a3f5f"
          },
          "geo": {
           "bgcolor": "white",
           "lakecolor": "white",
           "landcolor": "#E5ECF6",
           "showlakes": true,
           "showland": true,
           "subunitcolor": "white"
          },
          "hoverlabel": {
           "align": "left"
          },
          "hovermode": "closest",
          "mapbox": {
           "style": "light"
          },
          "paper_bgcolor": "white",
          "plot_bgcolor": "#E5ECF6",
          "polar": {
           "angularaxis": {
            "gridcolor": "white",
            "linecolor": "white",
            "ticks": ""
           },
           "bgcolor": "#E5ECF6",
           "radialaxis": {
            "gridcolor": "white",
            "linecolor": "white",
            "ticks": ""
           }
          },
          "scene": {
           "xaxis": {
            "backgroundcolor": "#E5ECF6",
            "gridcolor": "white",
            "gridwidth": 2,
            "linecolor": "white",
            "showbackground": true,
            "ticks": "",
            "zerolinecolor": "white"
           },
           "yaxis": {
            "backgroundcolor": "#E5ECF6",
            "gridcolor": "white",
            "gridwidth": 2,
            "linecolor": "white",
            "showbackground": true,
            "ticks": "",
            "zerolinecolor": "white"
           },
           "zaxis": {
            "backgroundcolor": "#E5ECF6",
            "gridcolor": "white",
            "gridwidth": 2,
            "linecolor": "white",
            "showbackground": true,
            "ticks": "",
            "zerolinecolor": "white"
           }
          },
          "shapedefaults": {
           "line": {
            "color": "#2a3f5f"
           }
          },
          "ternary": {
           "aaxis": {
            "gridcolor": "white",
            "linecolor": "white",
            "ticks": ""
           },
           "baxis": {
            "gridcolor": "white",
            "linecolor": "white",
            "ticks": ""
           },
           "bgcolor": "#E5ECF6",
           "caxis": {
            "gridcolor": "white",
            "linecolor": "white",
            "ticks": ""
           }
          },
          "title": {
           "x": 0.05
          },
          "xaxis": {
           "automargin": true,
           "gridcolor": "white",
           "linecolor": "white",
           "ticks": "",
           "title": {
            "standoff": 15
           },
           "zerolinecolor": "white",
           "zerolinewidth": 2
          },
          "yaxis": {
           "automargin": true,
           "gridcolor": "white",
           "linecolor": "white",
           "ticks": "",
           "title": {
            "standoff": 15
           },
           "zerolinecolor": "white",
           "zerolinewidth": 2
          }
         }
        },
        "title": {
         "text": "E-Waste Growth (%) 2017-2024"
        }
       }
      }
     },
     "metadata": {},
     "output_type": "display_data"
    }
   ],
   "source": [
    "growth_df = merged_df.groupby('Country').agg({\n",
    "    'E-Waste (kt)': lambda x: (x.iloc[-1]/x.iloc[0]-1)*100,\n",
    "    'GDP ($B)': lambda x: (x.iloc[-1]/x.iloc[0]-1)*100\n",
    "}).reset_index()\n",
    "\n",
    "fig = px.line_polar(growth_df, r='E-Waste (kt)', theta='Country',\n",
    "                    line_close=True, \n",
    "                    title=\"E-Waste Growth (%) 2017-2024\")\n",
    "fig.update_traces(fill='toself')\n",
    "fig.show()"
   ]
  },
  {
   "cell_type": "markdown",
   "metadata": {},
   "source": [
    "E-Waste Growth (%) 2017-2024\n",
    "\n",
    "What it shows: Lists countries (e.g., Canada, Switzerland, China) and their respective e-waste growth rates over the period 2017-2024.\n",
    "\n",
    "Interpretation: Rapidly developing countries like China and India may show higher growth rates due to increasing consumption, while developed nations like Switzerland or Norway might have slower growth due to saturation or better recycling programs.\n",
    "\n"
   ]
  },
  {
   "cell_type": "markdown",
   "metadata": {},
   "source": [
    "### **C. Time Series with Policy Events or E-Waste Trends with Policy Interventions**"
   ]
  },
  {
   "cell_type": "code",
   "execution_count": 15,
   "metadata": {},
   "outputs": [
    {
     "data": {
      "image/png": "[encoded data removed]",
      "text/plain": [
       "<Figure size 1200x600 with 1 Axes>"
      ]
     },
     "metadata": {},
     "output_type": "display_data"
    }
   ],
   "source": [
    "plt.figure(figsize=(12, 6))\n",
    "sns.lineplot(data=merged_df, x='Year', y='E-Waste (kt)', hue='Country')\n",
    "\n",
    "# Annotate policy milestones\n",
    "plt.axvline(2019, color='gray', linestyle='--', alpha=0.5)\n",
    "plt.text(2019, 3e6, \"EU Circular Economy Action Plan\", rotation=90)\n",
    "\n",
    "plt.axvline(2021, color='gray', linestyle='--', alpha=0.5)\n",
    "plt.text(2021, 3e6, \"India EPR Rules\", rotation=90)\n",
    "\n",
    "plt.yscale('log')  # Handle China's outlier scale\n",
    "plt.title(\"E-Waste Trends with Policy Interventions\")\n",
    "plt.show()"
   ]
  },
  {
   "cell_type": "markdown",
   "metadata": {},
   "source": [
    "E-Waste Trends with Policy Interventions\n",
    "\n",
    "What it shows: A line graph depicting e-waste in kilotonnes (kt) over time (2017-2021), possibly showing the impact of policy interventions (e.g., a 10% reduction target).\n",
    "\n",
    "Interpretation: Policy interventions (like recycling laws or awareness campaigns) may have led to fluctuations or stabilization in e-waste generation, especially around 2019-2020."
   ]
  },
  {
   "cell_type": "markdown",
   "metadata": {},
   "source": [
    "### **D. Waste Generation Efficiency**"
   ]
  },
  {
   "cell_type": "code",
   "execution_count": 16,
   "metadata": {},
   "outputs": [
    {
     "data": {
      "image/png": "[encoded data removed]",
      "text/plain": [
       "<Figure size 1000x500 with 1 Axes>"
      ]
     },
     "metadata": {},
     "output_type": "display_data"
    }
   ],
   "source": [
    "eff_df = merged_df.groupby('Country')['E-Waste per $B GDP'].mean().sort_values()\n",
    "\n",
    "plt.figure(figsize=(10, 5))\n",
    "sns.barplot(x=eff_df.index, y=eff_df.values)\n",
    "plt.xticks(rotation=45)\n",
    "plt.ylabel(\"kt e-waste per $1B GDP\")\n",
    "plt.title(\"Waste Generation Efficiency\")\n",
    "plt.axhline(eff_df.mean(), color='red', linestyle='--')\n",
    "plt.show()"
   ]
  },
  {
   "cell_type": "markdown",
   "metadata": {},
   "source": [
    "Waste Generation Efficiency\n",
    "\n",
    "What it shows: Compares countries based on kilotonnes of e-waste generated per $1 billion GDP.\n",
    "\n",
    "Interpretation: Countries like India or Indonesia may generate less e-waste per GDP unit, indicating lower electronic consumption efficiency. In contrast, developed nations like Germany or Japan might have higher efficiency (more GDP per e-waste)."
   ]
  },
  {
   "cell_type": "markdown",
   "metadata": {},
   "source": [
    "## **2. Descriptive Statistics**\n",
    "\n",
    "Output Interpretation:\n",
    "\n",
    "Shows central tendencies and variability\n",
    "\n",
    "China has highest mean e-waste (2.6M kt) followed by Japan (1.9M kt)\n",
    "\n",
    "Switzerland has lowest e-waste/GDP ratio (0.58 kt/$B)\n"
   ]
  },
  {
   "cell_type": "code",
   "execution_count": 17,
   "metadata": {},
   "outputs": [
    {
     "name": "stdout",
     "output_type": "stream",
     "text": [
      "\n",
      "E-Waste Summary Statistics (kt):\n",
      "count    5.000000e+01\n",
      "mean     9.274446e+05\n",
      "std      7.287997e+05\n",
      "min      1.232200e+05\n",
      "25%      4.120282e+05\n",
      "50%      7.609040e+05\n",
      "75%      1.286958e+06\n",
      "max      3.153228e+06\n",
      "Name: E-Waste (kt), dtype: float64\n",
      "\n",
      "GDP Summary Statistics ($B):\n",
      "count       50.000000\n",
      "mean      3336.778260\n",
      "std       4319.342634\n",
      "min        415.190000\n",
      "25%        752.441750\n",
      "50%       1798.825000\n",
      "75%       3815.367500\n",
      "max      17100.060000\n",
      "Name: GDP ($B), dtype: float64\n",
      "\n",
      "E-Waste per $B GDP Summary Statistics ($B):\n",
      "count     50.000000\n",
      "mean     393.862955\n",
      "std      187.444839\n",
      "min      137.188340\n",
      "25%      267.529685\n",
      "50%      356.105128\n",
      "75%      520.839197\n",
      "max      868.168435\n",
      "Name: E-Waste per $B GDP, dtype: float64\n"
     ]
    }
   ],
   "source": [
    "# Summary statistics\n",
    "print(\"\\nE-Waste Summary Statistics (kt):\")\n",
    "print(merged_df['E-Waste (kt)'].describe())\n",
    "\n",
    "print(\"\\nGDP Summary Statistics ($B):\")\n",
    "print(merged_df['GDP ($B)'].describe())\n",
    "\n",
    "print(\"\\nE-Waste per $B GDP Summary Statistics ($B):\")\n",
    "print(merged_df['E-Waste per $B GDP'].describe())\n",
    "\n",
    "\n",
    "# # By country\n",
    "# country_stats = merged_df.groupby('Country').agg({\n",
    "#     'E-Waste (kt)': ['mean', 'std', 'max'],\n",
    "#     'GDP ($B)': ['mean', 'std'],\n",
    "#     'E-Waste per $B GDP': 'mean'\n",
    "# }).sort_values(('E-Waste (kt)', 'mean'), ascending=False)\n",
    "\n",
    "# print(\"\\nCountry-Level Statistics:\")\n",
    "# print(country_stats)"
   ]
  },
  {
   "cell_type": "markdown",
   "metadata": {},
   "source": [
    "## **3. Correlation Analysis**"
   ]
  },
  {
   "cell_type": "markdown",
   "metadata": {},
   "source": [
    "### **A. Correlation Heatmap**"
   ]
  },
  {
   "cell_type": "code",
   "execution_count": 18,
   "metadata": {},
   "outputs": [
    {
     "data": {
      "image/png": "[encoded data removed]",
      "text/plain": [
       "<Figure size 800x600 with 2 Axes>"
      ]
     },
     "metadata": {},
     "output_type": "display_data"
    }
   ],
   "source": [
    "plt.figure(figsize=(8, 6))\n",
    "corr = merged_df[['E-Waste (kt)', 'GDP ($B)', 'E-Waste per $B GDP']].corr()\n",
    "sns.heatmap(corr, annot=True, cmap='coolwarm', center=0)\n",
    "plt.title(\"Variable Correlations\")\n",
    "plt.show()"
   ]
  },
  {
   "cell_type": "markdown",
   "metadata": {},
   "source": [
    "Insight:\n",
    "\n",
    "Confirms strong GDP-EWaste link (r=0.83)\n",
    "\n",
    "Negative waste/GDP ratio correlation (-0.49) suggests wealthier nations manage waste better"
   ]
  },
  {
   "cell_type": "code",
   "execution_count": 19,
   "metadata": {},
   "outputs": [
    {
     "name": "stdout",
     "output_type": "stream",
     "text": [
      "\n",
      "Correlation Matrix:\n",
      "              E-Waste (kt)  GDP ($B)\n",
      "E-Waste (kt)      1.000000  0.832213\n",
      "GDP ($B)          0.832213  1.000000\n",
      "\n",
      "Country-Specific Correlations:\n",
      "Country\n",
      "Japan          0.982541\n",
      "Canada         0.968503\n",
      "China          0.929402\n",
      "Indonesia      0.902380\n",
      "Sweden         0.854405\n",
      "Korea          0.804626\n",
      "Norway         0.793730\n",
      "India          0.574980\n",
      "Switzerland    0.229548\n",
      "Germany       -0.989585\n",
      "dtype: float64\n",
      "\n",
      "India: r = 0.575, p = 0.3105\n",
      "\n",
      "China: r = 0.929, p = 0.0223\n",
      "\n",
      "Japan: r = 0.983, p = 0.0028\n",
      "\n",
      "Korea: r = 0.805, p = 0.1006\n",
      "\n",
      "Indonesia: r = 0.902, p = 0.0361\n",
      "\n",
      "Switzerland: r = 0.230, p = 0.7103\n",
      "\n",
      "Sweden: r = 0.854, p = 0.0652\n",
      "\n",
      "Norway: r = 0.794, p = 0.1089\n",
      "\n",
      "Germany: r = -0.990, p = 0.0013\n",
      "\n",
      "Canada: r = 0.969, p = 0.0067\n"
     ]
    },
    {
     "name": "stderr",
     "output_type": "stream",
     "text": [
      "C:\\Users\\harsh\\AppData\\Local\\Temp\\ipykernel_15064\\3726627313.py:7: DeprecationWarning:\n",
      "\n",
      "DataFrameGroupBy.apply operated on the grouping columns. This behavior is deprecated, and in a future version of pandas the grouping columns will be excluded from the operation. Either pass `include_groups=False` to exclude the groupings or explicitly select the grouping columns after groupby to silence this warning.\n",
      "\n"
     ]
    }
   ],
   "source": [
    "# Correlation matrix\n",
    "corr_matrix = merged_df[['E-Waste (kt)', 'GDP ($B)']].corr(method='pearson')\n",
    "print(\"\\nCorrelation Matrix:\")\n",
    "print(corr_matrix)\n",
    "\n",
    "# Country-specific correlations\n",
    "country_corrs = merged_df.groupby('Country').apply(\n",
    "    lambda x: x[['E-Waste (kt)', 'GDP ($B)']].corr().iloc[0,1]\n",
    ").sort_values(ascending=False)\n",
    "\n",
    "print(\"\\nCountry-Specific Correlations:\")\n",
    "print(country_corrs)\n",
    "\n",
    "# Statistical significance test\n",
    "for country in merged_df['Country'].unique():\n",
    "    subset = merged_df[merged_df['Country'] == country]\n",
    "    r, p = stats.pearsonr(subset['GDP ($B)'], subset['E-Waste (kt)'])\n",
    "    print(f\"\\n{country}: r = {r:.3f}, p = {p:.4f}\")"
   ]
  },
  {
   "cell_type": "markdown",
   "metadata": {},
   "source": [
    "### **B. Growth Rates (2017-2021)**"
   ]
  },
  {
   "cell_type": "code",
   "execution_count": 20,
   "metadata": {},
   "outputs": [
    {
     "name": "stdout",
     "output_type": "stream",
     "text": [
      "\n",
      "Growth Rates (2017-2024):\n",
      "             E-Waste Growth (%)  GDP Growth (%)  Growth Ratio\n",
      "Country                                                      \n",
      "Indonesia            184.345237       21.023149      8.768678\n",
      "India                126.009833       12.987984      9.702032\n",
      "Japan                120.609570       17.524688      6.882266\n",
      "China                 71.173865       28.005957      2.541383\n",
      "Sweden                64.490297       19.769416      3.262125\n",
      "Korea                 37.352480       17.986687      2.076674\n",
      "Canada                29.623983       19.829764      1.493915\n",
      "Switzerland            4.878049       14.600574      0.334100\n",
      "Norway                 3.481894        7.301958      0.476844\n",
      "Germany              -20.976313       17.654732     -1.188141\n"
     ]
    }
   ],
   "source": [
    "# Calculate growth rates\n",
    "def growth_rate(s):\n",
    "    return (s.iloc[-1] - s.iloc[0]) / s.iloc[0] * 100\n",
    "\n",
    "growth_df = merged_df.groupby('Country').agg({\n",
    "    'E-Waste (kt)': growth_rate,\n",
    "    'GDP ($B)': growth_rate\n",
    "}).rename(columns={\n",
    "    'E-Waste (kt)': 'E-Waste Growth (%)',\n",
    "    'GDP ($B)': 'GDP Growth (%)'\n",
    "})\n",
    "\n",
    "growth_df['Growth Ratio'] = growth_df['E-Waste Growth (%)'] / growth_df['GDP Growth (%)']\n",
    "print(\"\\nGrowth Rates (2017-2024):\")\n",
    "print(growth_df.sort_values('E-Waste Growth (%)', ascending=False))"
   ]
  },
  {
   "cell_type": "markdown",
   "metadata": {},
   "source": [
    "### **C. Scatter plot of GDP vs. e-waste**"
   ]
  },
  {
   "cell_type": "code",
   "execution_count": 21,
   "metadata": {},
   "outputs": [
    {
     "data": {
      "text/plain": [
       "Text(0, 0.5, 'E-Waste (Kilotonnes)')"
      ]
     },
     "execution_count": 21,
     "metadata": {},
     "output_type": "execute_result"
    },
    {
     "data": {
      "image/png": "[encoded data removed]",
      "text/plain": [
       "<Figure size 1500x1000 with 1 Axes>"
      ]
     },
     "metadata": {},
     "output_type": "display_data"
    }
   ],
   "source": [
    "plt.figure(figsize=(15, 10))\n",
    "\n",
    "# Plot 1: E-Waste vs GDP Scatter\n",
    "plt.subplot(2, 2, 1)\n",
    "sns.scatterplot(data=merged_df, x='GDP ($B)', y='E-Waste (kt)', hue='Country', s=100)\n",
    "plt.title(\"E-Waste vs GDP (All Years)\")\n",
    "plt.xlabel(\"GDP ($ Billion)\")\n",
    "plt.ylabel(\"E-Waste (Kilotonnes)\")"
   ]
  },
  {
   "cell_type": "markdown",
   "metadata": {},
   "source": [
    "E-Waste vs GDP (All Years)\n",
    "\n",
    "What it shows: Scatter plot of e-waste (kilotonnes) against GDP ($ billion) for multiple countries across years.\n",
    "\n",
    "Interpretation: There may be a positive correlation between GDP and e-waste, but outliers (e.g., countries with high GDP but moderate e-waste) suggest differences in consumption patterns or waste management."
   ]
  },
  {
   "cell_type": "markdown",
   "metadata": {},
   "source": [
    "### **D. GDP Growth vs. E-Waste Growth**"
   ]
  },
  {
   "cell_type": "code",
   "execution_count": 22,
   "metadata": {},
   "outputs": [
    {
     "data": {
      "text/plain": [
       "Text(0, 0.5, 'E-Waste Growth (%)')"
      ]
     },
     "execution_count": 22,
     "metadata": {},
     "output_type": "execute_result"
    },
    {
     "data": {
      "image/png": "[encoded data removed]",
      "text/plain": [
       "<Figure size 1500x1000 with 1 Axes>"
      ]
     },
     "metadata": {},
     "output_type": "display_data"
    }
   ],
   "source": [
    "plt.figure(figsize=(15, 10))\n",
    "\n",
    "# Plot 2: Growth Rates\n",
    "plt.subplot(2, 2, 2)\n",
    "sns.scatterplot(data=growth_df, x='GDP Growth (%)', y='E-Waste Growth (%)', hue=growth_df.index, s=200)\n",
    "plt.axhline(0, color='grey', linestyle='--')\n",
    "plt.axvline(0, color='grey', linestyle='--')\n",
    "plt.title(\"GDP Growth vs E-Waste Growth\")\n",
    "plt.xlabel(\"GDP Growth (%)\")\n",
    "plt.ylabel(\"E-Waste Growth (%)\")"
   ]
  },
  {
   "cell_type": "markdown",
   "metadata": {},
   "source": [
    "GDP Growth vs E-Waste Growth\n",
    "\n",
    "What it shows: Compares GDP growth (%) to e-waste growth (%) for various countries.\n",
    "\n",
    "Interpretation: Countries with high GDP growth (e.g., China, India) may also show high e-waste growth, indicating a link between economic expansion and electronic waste. Developed nations (e.g., Switzerland) might show slower e-waste growth despite stable GDP."
   ]
  },
  {
   "cell_type": "markdown",
   "metadata": {},
   "source": [
    "### **E. Time Series for Top Countries**"
   ]
  },
  {
   "cell_type": "code",
   "execution_count": 23,
   "metadata": {},
   "outputs": [
    {
     "data": {
      "image/png": "[encoded data removed]",
      "text/plain": [
       "<Figure size 1500x1000 with 1 Axes>"
      ]
     },
     "metadata": {},
     "output_type": "display_data"
    }
   ],
   "source": [
    "\n",
    "plt.figure(figsize=(15, 10))\n",
    "\n",
    "# Plot 3: Time Series for Top Countries\n",
    "plt.subplot(2, 1, 2)\n",
    "top_countries = ['China', 'India', 'Germany', 'Japan']\n",
    "for country in top_countries:\n",
    "    subset = merged_df[merged_df['Country'] == country]\n",
    "    plt.plot(subset['Year'], subset['E-Waste (kt)'], label=country, marker='o')\n",
    "plt.title(\"E-Waste Generation Over Time\")\n",
    "plt.xlabel(\"Year\")\n",
    "plt.ylabel(\"E-Waste (kt)\")\n",
    "plt.legend()\n",
    "\n",
    "plt.tight_layout()\n",
    "plt.show()"
   ]
  },
  {
   "cell_type": "markdown",
   "metadata": {},
   "source": [
    "E-Waste Generation Over Time\n",
    "\n",
    "What it shows: Line graph tracking e-waste (kt) from 2017-2021 for select countries (China, India, Germany, Japan).\n",
    "\n",
    "Interpretation: China and India likely show upward trends due to growing economies and consumption. Germany and Japan may have flatter trends, reflecting mature markets and better recycling."
   ]
  },
  {
   "cell_type": "markdown",
   "metadata": {},
   "source": [
    "## **4. Regression Analysis**"
   ]
  },
  {
   "cell_type": "code",
   "execution_count": 24,
   "metadata": {},
   "outputs": [
    {
     "name": "stdout",
     "output_type": "stream",
     "text": [
      "\n",
      "Regression Results:\n",
      "       Country        Slope  R-squared   P-value\n",
      "4    Indonesia  2332.644777   0.814290  0.036073\n",
      "2        Japan  1921.193463   0.965386  0.002762\n",
      "6       Sweden  1039.661944   0.730008  0.065213\n",
      "3        Korea   950.478390   0.647422  0.100573\n",
      "0        India   696.875829   0.330602  0.310534\n",
      "9       Canada   499.512686   0.937997  0.006679\n",
      "1        China   316.207690   0.863789  0.022277\n",
      "5  Switzerland    86.418985   0.052692  0.710318\n",
      "7       Norway    78.200286   0.630007  0.108911\n",
      "8      Germany  -299.378930   0.979279  0.001274\n",
      "\n",
      "Group Comparison:\n",
      "           E-Waste per $B GDP            \n",
      "                         mean         std\n",
      "Group                                    \n",
      "Developed          359.456909  120.761882\n",
      "Developing         445.472024  252.351058\n",
      "\n",
      "T-test Results: t = -1.42, p = 0.1681\n"
     ]
    }
   ],
   "source": [
    "# Linear regression by country\n",
    "results = []\n",
    "for country in merged_df['Country'].unique():\n",
    "    subset = merged_df[merged_df['Country'] == country]\n",
    "    slope, intercept, r_value, p_value, std_err = stats.linregress(\n",
    "        subset['GDP ($B)'], subset['E-Waste (kt)'])\n",
    "    results.append({\n",
    "        'Country': country,\n",
    "        'Slope': slope,\n",
    "        'R-squared': r_value**2,\n",
    "        'P-value': p_value\n",
    "    })\n",
    "\n",
    "results_df = pd.DataFrame(results).sort_values('Slope', ascending=False)\n",
    "print(\"\\nRegression Results:\")\n",
    "print(results_df)\n",
    "\n",
    "# ANOVA between developed vs developing\n",
    "developed = ['Germany', 'Japan', 'Canada', 'Switzerland', 'Sweden', 'Norway']\n",
    "merged_df['Group'] = np.where(merged_df['Country'].isin(developed), 'Developed', 'Developing')\n",
    "\n",
    "group_stats = merged_df.groupby('Group').agg({\n",
    "    'E-Waste per $B GDP': ['mean', 'std']\n",
    "})\n",
    "print(\"\\nGroup Comparison:\")\n",
    "print(group_stats)\n",
    "\n",
    "# t-test\n",
    "t_stat, p_val = stats.ttest_ind(\n",
    "    merged_df[merged_df['Group'] == 'Developed']['E-Waste per $B GDP'],\n",
    "    merged_df[merged_df['Group'] == 'Developing']['E-Waste per $B GDP'],\n",
    "    equal_var=False\n",
    ")\n",
    "print(f\"\\nT-test Results: t = {t_stat:.2f}, p = {p_val:.4f}\")"
   ]
  },
  {
   "cell_type": "markdown",
   "metadata": {},
   "source": [
    "### **A. Regression Coefficients Plot or Country-Specific GDP Impact**"
   ]
  },
  {
   "cell_type": "code",
   "execution_count": 25,
   "metadata": {},
   "outputs": [
    {
     "data": {
      "image/png": "[encoded data removed]",
      "text/plain": [
       "<Figure size 640x480 with 1 Axes>"
      ]
     },
     "metadata": {},
     "output_type": "display_data"
    }
   ],
   "source": [
    "results = []\n",
    "for country in merged_df['Country'].unique():\n",
    "    subset = merged_df[merged_df['Country'] == country]\n",
    "    slope = stats.linregress(subset['GDP ($B)'], subset['E-Waste (kt)'])[0]\n",
    "    results.append({'Country': country, 'Slope': slope})\n",
    "\n",
    "pd.DataFrame(results).set_index('Country').plot(kind='bar')\n",
    "plt.ylabel(\"kt e-waste increase per $1B GDP\")\n",
    "plt.title(\"Country-Specific GDP Impact\")\n",
    "plt.show()"
   ]
  },
  {
   "cell_type": "markdown",
   "metadata": {},
   "source": [
    "Countries with the highest e-waste per unit GDP:\n",
    "\n",
    "Indonesia (2332 kt/$B)\n",
    "\n",
    "Japan (1921 kt/$B)\n",
    "\n",
    "Sweden (1039 kt/$B)\n",
    "\n",
    "Germany has a negative slope, showing reduced e-waste despite increasing GDP — rare and positive.\n",
    "\n",
    "Some developed nations (e.g., Norway, Switzerland) show very low slopes, indicating better waste efficiency."
   ]
  },
  {
   "cell_type": "markdown",
   "metadata": {},
   "source": [
    "### **B. Waste Efficiency by Development Status OR Group Comparison Boxplot**"
   ]
  },
  {
   "cell_type": "code",
   "execution_count": 26,
   "metadata": {},
   "outputs": [
    {
     "data": {
      "image/png": "[encoded data removed]",
      "text/plain": [
       "<Figure size 640x480 with 1 Axes>"
      ]
     },
     "metadata": {},
     "output_type": "display_data"
    },
    {
     "name": "stdout",
     "output_type": "stream",
     "text": [
      "TtestResult(statistic=np.float64(-0.51462117291668), pvalue=np.float64(0.6091793747278517), df=np.float64(48.0))\n"
     ]
    }
   ],
   "source": [
    "merged_df['Group'] = np.where(\n",
    "    merged_df['Country'].isin(['Germany','Japan','Switzerland']),\n",
    "    'Developed', 'Developing')\n",
    "\n",
    "sns.boxplot(data=merged_df, x='Group', y='E-Waste per $B GDP')\n",
    "plt.title(\"Waste Efficiency by Development Status\")\n",
    "plt.show()\n",
    "\n",
    "# T-test confirmation\n",
    "print(stats.ttest_ind(\n",
    "    merged_df[merged_df['Group']=='Developed']['E-Waste per $B GDP'],\n",
    "    merged_df[merged_df['Group']=='Developing']['E-Waste per $B GDP']\n",
    "))"
   ]
  }
 ],
 "metadata": {
  "kernelspec": {
   "display_name": "Python 3",
   "language": "python",
   "name": "python3"
  },
  "language_info": {
   "codemirror_mode": {
    "name": "ipython",
    "version": 3
   },
   "file_extension": ".py",
   "mimetype": "text/x-python",
   "name": "python",
   "nbconvert_exporter": "python",
   "pygments_lexer": "ipython3",
   "version": "3.10.0"
  }
 },
 "nbformat": 4,
 "nbformat_minor": 2
}
